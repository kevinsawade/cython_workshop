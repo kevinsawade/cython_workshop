{
 "cells": [
  {
   "cell_type": "markdown",
   "metadata": {},
   "source": [
    "# Welcome to the accelerate python code tutorial\n",
    "\n",
    "## This notebook has a pdf\n",
    "\n",
    "This notebook also comes with its own pdf. You can use this pdf as a last-resort tool, when python simply won't work. The very bottom of this notebook contains some instructions for converting this notebook to pdf.\n",
    "\n",
    "## Setting up the environment\n",
    "\n",
    "We need some packages that do not come with standard python deployments. Either install these packages via this conda / pip commands yourself, or install the environment based on the .yaml file in this directory."
   ]
  },
  {
   "cell_type": "markdown",
   "metadata": {},
   "source": [
    "## Setting autoreload\n",
    "\n",
    "Importing some pre-compiled cython files is similar to importing regular python files. They get appended to the current namespace and stay there even if you change the file or reload it. Let us use the autreload magic to fix that issue."
   ]
  },
  {
   "cell_type": "code",
   "execution_count": 1,
   "metadata": {},
   "outputs": [],
   "source": [
    "%load_ext autoreload\n",
    "%autoreload 2"
   ]
  },
  {
   "cell_type": "markdown",
   "metadata": {},
   "source": [
    "# Cython. It's compiled python.\n",
    "\n",
    "Cython is aimed to be a superset to the python programming language. Cython is a compiled language with python-like syntax. You can write cython files (.pyx) files in a similar manner than you would write normal python files (.py), compile them and import the generated shared object (.so) as a module into your python code. Doing this allows you to greatly decrease the computational overhead at run time, i.e. make python faster. You may find the best use in cython if you use it to compile specific computationally-heavy functions.\n",
    "\n",
    "## The compilation pipeline\n",
    "\n",
    "Cython is always compiled in two steps.\n",
    "\n",
    "- The cython compiler transforms cython code (.pyx) into optimized and platform-independent C or C++ code (.c).\n",
    "- A standard compiler compiles the C code (.c) into a shared object (.so) which can be imported to python.\n",
    "\n",
    "The shared object is platform specific (architecture and OS). Someone running the very niche Windows 10 for ARM will face some difficulties using your .so file. On windows these files also get a different extension (.pyd). After we get this sorted out we will look at how to write and compile cython.\n",
    "\n",
    "## Compilation\n",
    "\n",
    "There are several ways you can utilize to get your cython code compiled and imported into python. Here are 3:\n",
    "\n",
    "### Distutils and Cythonize\n",
    "\n",
    "`distutils` is a python standard package used for building, packing and distributing python projects. It can compile C source code into an extension module. How neat is that?! It manages all python versions, platforms and architectures. That's pretty neat. Cython's `cythonize()` function produces a .c file and `distutils` compiles it for us. This compilation pipeline requires us to write a short setup script. This compilation pipeline is the most common way to ditribute cython code.\n",
    "\n",
    "\n",
    "\n",
    "**Reading and writing files in jupyter**\n",
    "\n",
    "Instead of opening with your text editor of choice (Hint: There is a correct answer to the question \"What is your favorite text editor\" and emacs is not it.) let us open the .pyx files direclty in this notebook using magic. With magic I am talking about the stuff you put after the percent characters in cells. This includes line magic `%matplotlib notebook` and  cell magic `%%time`."
   ]
  },
  {
   "cell_type": "code",
   "execution_count": 1,
   "metadata": {},
   "outputs": [
    {
     "name": "stdout",
     "output_type": "stream",
     "text": [
      "CPU times: user 372 ms, sys: 16 ms, total: 388 ms\n",
      "Wall time: 385 ms\n"
     ]
    }
   ],
   "source": [
    "%%time\n",
    "for i in range(9):\n",
    "    y = i ** i ** i"
   ]
  },
  {
   "cell_type": "markdown",
   "metadata": {},
   "source": [
    "Let's use the %load magic function to open the file helloworld.pyx"
   ]
  },
  {
   "cell_type": "code",
   "execution_count": 14,
   "metadata": {},
   "outputs": [],
   "source": [
    "# %load helloworld.pyx\n",
    "print(Hello World)"
   ]
  },
  {
   "cell_type": "markdown",
   "metadata": {},
   "source": [
    "As you can probably guess, the quotation marks declaring 'Hello World' as a string are missing. Let's fix that using the %%writefile cell magic."
   ]
  },
  {
   "cell_type": "code",
   "execution_count": 2,
   "metadata": {},
   "outputs": [
    {
     "name": "stdout",
     "output_type": "stream",
     "text": [
      "Overwriting helloworld.pyx\n"
     ]
    }
   ],
   "source": [
    "%%writefile helloworld.pyx\n",
    "def hello_world():\n",
    "    \"\"\"This is the docstring which gets transferred into the .so\n",
    "    \n",
    "    Additionally to printing hello world, I will also do some calculations.\n",
    "    \n",
    "    Args:\n",
    "        No args lol.\n",
    "        \n",
    "    Returns:\n",
    "        None\n",
    "        \n",
    "    \"\"\"\n",
    "    for i in range(9):\n",
    "        y = i ** i ** i\n",
    "    print(\"Hello World\")"
   ]
  },
  {
   "cell_type": "markdown",
   "metadata": {},
   "source": [
    "**The setup file**\n",
    "\n",
    "A simple setup.py file is only a few lines long (most of them are imports). At the core you have the nested function call. The `cythonize()` function can take single files, list of files or glob patterns. The `cythonize()` function returns a list of distutils extension modules, that the setup function knows how to use. This setup.py file can be invoked from the command-line using:\n",
    "\n",
    "```bash\n",
    "$ python setup.py build_ext --inplace\n",
    "```"
   ]
  },
  {
   "cell_type": "code",
   "execution_count": 2,
   "metadata": {},
   "outputs": [
    {
     "name": "stdout",
     "output_type": "stream",
     "text": [
      "Overwriting setup.py\n"
     ]
    }
   ],
   "source": [
    "%%writefile setup.py\n",
    "from distutils.core import setup\n",
    "from Cython.Build import cythonize\n",
    "\n",
    "setup(\n",
    "    ext_modules = cythonize(\"helloworld.pyx\")\n",
    ")"
   ]
  },
  {
   "cell_type": "code",
   "execution_count": 3,
   "metadata": {
    "scrolled": true
   },
   "outputs": [
    {
     "name": "stdout",
     "output_type": "stream",
     "text": [
      "running build_ext\r\n"
     ]
    }
   ],
   "source": [
    "!python setup.py build_ext --inplace"
   ]
  },
  {
   "cell_type": "code",
   "execution_count": 4,
   "metadata": {},
   "outputs": [
    {
     "data": {
      "text/plain": [
       "['accelerate_python_code.pdf',\n",
       " 'build',\n",
       " 'helloworld.c',\n",
       " 'helloworld.cpython-36m-x86_64-linux-gnu.so',\n",
       " 'helloworld.pyx',\n",
       " 'prime_numbers.c',\n",
       " 'prime_numbers.cpython-36m-x86_64-linux-gnu.so',\n",
       " 'prime_numbers.pyx',\n",
       " 'prime_numbers_cdef.c',\n",
       " 'prime_numbers_cdef.cpython-36m-x86_64-linux-gnu.so',\n",
       " 'prime_numbers_cdef.pyx',\n",
       " 'setup.py',\n",
       " 'vmdscene.mtl',\n",
       " 'vmdscene.obj',\n",
       " '.git',\n",
       " '.gitignore',\n",
       " 'README.md',\n",
       " 'cython_workshop.ipynb',\n",
       " '.ipynb_checkpoints']"
      ]
     },
     "execution_count": 4,
     "metadata": {},
     "output_type": "execute_result"
    }
   ],
   "source": [
    "import os\n",
    "os.listdir()"
   ]
  },
  {
   "cell_type": "markdown",
   "metadata": {},
   "source": [
    "You see, that some files have appeared in your current directory. The helloworld.c file contains quite a few lines C code. But after compiling it, it is faster than python."
   ]
  },
  {
   "cell_type": "code",
   "execution_count": 6,
   "metadata": {},
   "outputs": [
    {
     "name": "stdout",
     "output_type": "stream",
     "text": [
      "2752\n"
     ]
    }
   ],
   "source": [
    "count = len(open('helloworld.c').readlines())\n",
    "print(count)"
   ]
  },
  {
   "cell_type": "markdown",
   "metadata": {},
   "source": [
    "Now we can import stuff from our shared object."
   ]
  },
  {
   "cell_type": "code",
   "execution_count": 8,
   "metadata": {},
   "outputs": [
    {
     "name": "stdout",
     "output_type": "stream",
     "text": [
      "Help on built-in function hello_world in module helloworld:\n",
      "\n",
      "hello_world(...)\n",
      "    This is the docstring which gets transferred into the .so\n",
      "    \n",
      "    Additionally to printing hello world, I will also do some calculations.\n",
      "    \n",
      "    Args:\n",
      "        No args lol.\n",
      "        \n",
      "    Returns:\n",
      "        None\n",
      "\n",
      "None\n"
     ]
    }
   ],
   "source": [
    "from helloworld import hello_world\n",
    "print(help(hello_world))"
   ]
  },
  {
   "cell_type": "code",
   "execution_count": 9,
   "metadata": {},
   "outputs": [
    {
     "name": "stdout",
     "output_type": "stream",
     "text": [
      "Hello World\n"
     ]
    }
   ],
   "source": [
    "hello_world()"
   ]
  },
  {
   "cell_type": "markdown",
   "metadata": {},
   "source": [
    "## IPython %%cython magic\n",
    "\n",
    "Although distutils is the quasi-standard for deploying cython code we can use ipythons %%cyhton magic to interactively work with cython. IPython handles the rest for us, translating, compiling and importing the function. This also circumvents a major draw-back when you develop cython code.\n",
    "\n",
    "**:( :( :( :( :( :( :( :(**\n",
    "\n",
    "Changes in .so files are not caught by the %autoreload extension, meaning if you change something in your cython code and recompile it, you have to restart the kernel."
   ]
  },
  {
   "cell_type": "code",
   "execution_count": 11,
   "metadata": {},
   "outputs": [],
   "source": [
    "%load_ext Cython"
   ]
  },
  {
   "cell_type": "markdown",
   "metadata": {},
   "source": [
    "The %%cython cell magic comes with its own options, you can check out here:\n",
    "\n",
    "https://ipython.org/ipython-doc/2/config/extensions/cythonmagic.html"
   ]
  },
  {
   "cell_type": "code",
   "execution_count": 12,
   "metadata": {},
   "outputs": [],
   "source": [
    "%%cython\n",
    "def fibonacci(int n):\n",
    "    cdef int i\n",
    "    cdef double a=0.0, b=1.0\n",
    "    for i in range(n):\n",
    "        a, b = a+b, a\n",
    "    return a"
   ]
  },
  {
   "cell_type": "code",
   "execution_count": 14,
   "metadata": {
    "scrolled": true
   },
   "outputs": [
    {
     "data": {
      "text/plain": [
       "6765.0"
      ]
     },
     "execution_count": 14,
     "metadata": {},
     "output_type": "execute_result"
    }
   ],
   "source": [
    "fibonacci(20)"
   ]
  },
  {
   "cell_type": "markdown",
   "metadata": {},
   "source": [
    "The compiled file can be found in ~/.ipython/cython)"
   ]
  },
  {
   "cell_type": "markdown",
   "metadata": {},
   "source": [
    "## On-the-fly compilation with pyximport\n",
    "\n",
    "pyximport retrofits the import statement to recognize .pyx extension modules. The pyximport module comes with cython and can easily be accessed via:"
   ]
  },
  {
   "cell_type": "code",
   "execution_count": 42,
   "metadata": {},
   "outputs": [
    {
     "data": {
      "text/plain": [
       "(None, None)"
      ]
     },
     "execution_count": 42,
     "metadata": {},
     "output_type": "execute_result"
    }
   ],
   "source": [
    "import pyximport\n",
    "pyximport.install()"
   ]
  },
  {
   "cell_type": "code",
   "execution_count": 45,
   "metadata": {},
   "outputs": [
    {
     "name": "stdout",
     "output_type": "stream",
     "text": [
      "Writing fib.pyx\n"
     ]
    }
   ],
   "source": [
    "%%writefile fib.pyx\n",
    "def fibonacci(int n):\n",
    "    cdef int i\n",
    "    cdef double a=0.0, b=1.0\n",
    "    for i in range(n):\n",
    "        a, b = a+b, a\n",
    "    return a"
   ]
  },
  {
   "cell_type": "markdown",
   "metadata": {},
   "source": [
    "With pyximport we can now import from .pyx files. In the background there is still the compilation pipeline going on, but we don't need to worry about that."
   ]
  },
  {
   "cell_type": "code",
   "execution_count": 46,
   "metadata": {},
   "outputs": [
    {
     "name": "stderr",
     "output_type": "stream",
     "text": [
      "/home/kevin/.conda/envs/work_3/lib/python3.6/site-packages/Cython/Compiler/Main.py:367: FutureWarning: Cython directive 'language_level' not set, using 2 for now (Py2). This will change in a later release! File: /home/kevin/projects/cython_workshop/fib.pyx\n",
      "  tree = Parsing.p_module(s, pxd, full_module_name)\n"
     ]
    }
   ],
   "source": [
    "import fib"
   ]
  },
  {
   "cell_type": "code",
   "execution_count": 50,
   "metadata": {},
   "outputs": [
    {
     "name": "stdout",
     "output_type": "stream",
     "text": [
      "/home/kevin/.pyxbld/lib.linux-x86_64-3.6/fib.cpython-36m-x86_64-linux-gnu.so\n",
      "<class 'module'>\n"
     ]
    }
   ],
   "source": [
    "print(fib.__file__)\n",
    "print(type(fib))"
   ]
  },
  {
   "cell_type": "code",
   "execution_count": 51,
   "metadata": {
    "scrolled": true
   },
   "outputs": [
    {
     "name": "stdout",
     "output_type": "stream",
     "text": [
      "CPU times: user 0 ns, sys: 0 ns, total: 0 ns\n",
      "Wall time: 12.4 µs\n"
     ]
    },
    {
     "data": {
      "text/plain": [
       "2.880067194370816e+18"
      ]
     },
     "execution_count": 51,
     "metadata": {},
     "output_type": "execute_result"
    }
   ],
   "source": [
    "%%time\n",
    "fib.fibonacci(90)"
   ]
  },
  {
   "cell_type": "markdown",
   "metadata": {},
   "source": [
    "## pyximport and further C dependencies\n",
    "\n",
    "The great advantage of pyximport is that it not only checks, whether the source .pyx file has been changed but also if any dependencies within that source file have been changed (regardless of any changes to the .pyx file). These dependencies are tracked in a file with the .pyxdeps extension and the same name as the base .pyx file. The file definitions in this file can also be glob patterns.\n",
    "\n",
    "Here's an example using C:\n",
    "\n",
    "First we define a function in lib/examples.c"
   ]
  },
  {
   "cell_type": "code",
   "execution_count": 54,
   "metadata": {},
   "outputs": [],
   "source": [
    "import os\n",
    "os.makedirs('lib', exist_ok=True)"
   ]
  },
  {
   "cell_type": "code",
   "execution_count": 1,
   "metadata": {},
   "outputs": [
    {
     "name": "stdout",
     "output_type": "stream",
     "text": [
      "Overwriting lib/examples.c\n"
     ]
    }
   ],
   "source": [
    "%%writefile lib/examples.c\n",
    "#include <stdio.h>\n",
    "#include <string.h>\n",
    "#include \"examples.h\"\n",
    "\n",
    "double fibby(const int n)\n",
    "{\n",
    "  int i;\n",
    "  double tmp, a=0.0, b=1.0;\n",
    "  for ( i = 0; i < n; i++)\n",
    "  {\n",
    "    tmp = a + b;\n",
    "    b = a;\n",
    "    a = tmp;\n",
    "  }\n",
    "  return a;\n",
    "  // printf(\"Your fibonacci number is: %f\\n\", a);\n",
    "}"
   ]
  },
  {
   "cell_type": "markdown",
   "metadata": {},
   "source": [
    "The packed C library will be compiled from the examples.h header file. In the header file we need to point to the fibby function defined in examples.c"
   ]
  },
  {
   "cell_type": "code",
   "execution_count": 2,
   "metadata": {},
   "outputs": [
    {
     "name": "stdout",
     "output_type": "stream",
     "text": [
      "Overwriting lib/examples.h\n"
     ]
    }
   ],
   "source": [
    "%%writefile lib/examples.h\n",
    "#ifndef EXAMPLES_H\n",
    "#define EXAMPLES_H\n",
    "\n",
    "double fibby(const int n);\n",
    "\n",
    "#endif"
   ]
  },
  {
   "cell_type": "markdown",
   "metadata": {},
   "source": [
    "**Create the library**\n",
    "\n",
    "Now we create the library by either:\n",
    "\n",
    "```bash\n",
    "$ cd lib/\n",
    "$ make\n",
    "```\n",
    "\n",
    "or by executing this cell:"
   ]
  },
  {
   "cell_type": "code",
   "execution_count": 3,
   "metadata": {
    "scrolled": true
   },
   "outputs": [],
   "source": [
    "%%bash\n",
    "cd lib\n",
    "gcc -c -fPIC examples.c examples.h # compile the source files without making them executable\n",
    "# also, compilation without -c would not work, because no main function is defined in examples.c\n",
    "ar rcs libexamples.a examples.o # make an archive out of the output. This archive can be imported to cython\n",
    "# ls"
   ]
  },
  {
   "cell_type": "markdown",
   "metadata": {},
   "source": [
    "The finished libary is in the libexamples.a file. We need a .pyx file that makes use of our fibby function. Here it is:"
   ]
  },
  {
   "cell_type": "code",
   "execution_count": 5,
   "metadata": {},
   "outputs": [
    {
     "name": "stdout",
     "output_type": "stream",
     "text": [
      "Overwriting pyexamples.pyx\n"
     ]
    }
   ],
   "source": [
    "%%writefile pyexamples.pyx\n",
    "cdef extern from \"examples.h\":\n",
    "    double fibby(const int n)\n",
    "\n",
    "def c_wrapped_fib(n: int) -> None:\n",
    "    out = fibby(n)\n",
    "    print(\"Your fibonacci number is: \", out)"
   ]
  },
  {
   "cell_type": "markdown",
   "metadata": {},
   "source": [
    "And we need a setup.py file to make distutils handle the compilation. Because we have an external dependency, we need to declare that in the setup.py file."
   ]
  },
  {
   "cell_type": "code",
   "execution_count": 6,
   "metadata": {},
   "outputs": [
    {
     "name": "stdout",
     "output_type": "stream",
     "text": [
      "Overwriting setup.py\n"
     ]
    }
   ],
   "source": [
    "%%writefile setup.py\n",
    "from distutils.core import setup\n",
    "from distutils.extension import Extension\n",
    "from Cython.Build import cythonize\n",
    "\n",
    "examples_extension = Extension(\n",
    "    name=\"pyexamples\",\n",
    "    sources=[\"pyexamples.pyx\"],\n",
    "    libraries=[\"examples\"],\n",
    "    library_dirs=[\"lib\"],\n",
    "    include_dirs=[\"lib\"]\n",
    ")\n",
    "setup(\n",
    "    name=\"pyexamples\",\n",
    "    ext_modules=cythonize([examples_extension])\n",
    ")"
   ]
  },
  {
   "cell_type": "markdown",
   "metadata": {},
   "source": [
    "After executing the setup script we can use our fibby function."
   ]
  },
  {
   "cell_type": "code",
   "execution_count": 7,
   "metadata": {},
   "outputs": [
    {
     "name": "stdout",
     "output_type": "stream",
     "text": [
      "Compiling pyexamples.pyx because it changed.\n",
      "[1/1] Cythonizing pyexamples.pyx\n",
      "/home/kevin/.conda/envs/work_3/lib/python3.6/site-packages/Cython/Compiler/Main.py:367: FutureWarning: Cython directive 'language_level' not set, using 2 for now (Py2). This will change in a later release! File: /home/kevin/projects/cython_workshop/pyexamples.pyx\n",
      "  tree = Parsing.p_module(s, pxd, full_module_name)\n",
      "running build_ext\n",
      "building 'pyexamples' extension\n",
      "gcc -pthread -Wno-unused-result -Wsign-compare -DNDEBUG -g -fwrapv -O3 -Wall -m64 -fPIC -m64 -fPIC -fPIC -Ilib -I/home/kevin/.conda/envs/work_3/include/python3.6m -c pyexamples.c -o build/temp.linux-x86_64-3.6/pyexamples.o\n",
      "gcc -pthread -shared -L/home/kevin/.conda/envs/work_3/lib -Wl,-rpath=/home/kevin/.conda/envs/work_3/lib,--no-as-needed -L/home/kevin/.conda/envs/work_3/lib -Wl,-rpath=/home/kevin/.conda/envs/work_3/lib,--no-as-needed build/temp.linux-x86_64-3.6/pyexamples.o -Llib -L/home/kevin/.conda/envs/work_3/lib -lexamples -lpython3.6m -o /home/kevin/projects/cython_workshop/pyexamples.cpython-36m-x86_64-linux-gnu.so\n"
     ]
    }
   ],
   "source": [
    "!python setup.py build_ext --inplace"
   ]
  },
  {
   "cell_type": "code",
   "execution_count": 1,
   "metadata": {},
   "outputs": [],
   "source": [
    "import pyexamples"
   ]
  },
  {
   "cell_type": "code",
   "execution_count": 4,
   "metadata": {},
   "outputs": [
    {
     "name": "stdout",
     "output_type": "stream",
     "text": [
      "('Your fibonacci number is: ', 2.880067194370816e+18)\n"
     ]
    }
   ],
   "source": [
    "pyexamples.c_wrapped_fib(90)"
   ]
  },
  {
   "cell_type": "code",
   "execution_count": null,
   "metadata": {},
   "outputs": [],
   "source": []
  },
  {
   "cell_type": "code",
   "execution_count": null,
   "metadata": {},
   "outputs": [],
   "source": []
  },
  {
   "cell_type": "code",
   "execution_count": null,
   "metadata": {},
   "outputs": [],
   "source": []
  },
  {
   "cell_type": "code",
   "execution_count": null,
   "metadata": {},
   "outputs": [],
   "source": []
  },
  {
   "cell_type": "code",
   "execution_count": null,
   "metadata": {},
   "outputs": [],
   "source": []
  },
  {
   "cell_type": "markdown",
   "metadata": {},
   "source": [
    "## Python\n",
    "\n",
    "A simple python function to print a certain number of prime numbers. I got a time of 30.7 ms ± 300 µs for for 1000 prime numbers."
   ]
  },
  {
   "cell_type": "code",
   "execution_count": 1,
   "metadata": {},
   "outputs": [],
   "source": [
    "def primes_python(nb_primes):\n",
    "    if nb_primes > 1000:\n",
    "        nb_primes = 1000\n",
    "      \n",
    "    p = list(range(100000)) # number space for checking\n",
    "    len_p = 0  # The current number of elements in p.\n",
    "    n = 2\n",
    "    \n",
    "    while len_p < nb_primes:\n",
    "        # Is n prime?\n",
    "        for i in p[:len_p]:\n",
    "            if n % i == 0:\n",
    "                break\n",
    "\n",
    "        # If no break occurred in the loop, we have a prime.\n",
    "        else:\n",
    "            p[len_p] = n\n",
    "            len_p += 1\n",
    "        n += 1\n",
    "        \n",
    "    result_as_list  = [prime for prime in p[:len_p]]\n",
    "    return result_as_list"
   ]
  },
  {
   "cell_type": "code",
   "execution_count": 22,
   "metadata": {},
   "outputs": [
    {
     "name": "stdout",
     "output_type": "stream",
     "text": [
      "30.7 ms ± 300 µs per loop (mean ± std. dev. of 7 runs, 10 loops each)\n"
     ]
    }
   ],
   "source": [
    "%%timeit\n",
    "primes = primes_python(1000)"
   ]
  },
  {
   "cell_type": "markdown",
   "metadata": {},
   "source": [
    "## Cython\n",
    "\n",
    "By simply saving the function to a .pyx file and compile it with cython we can save a great amount of time."
   ]
  },
  {
   "cell_type": "code",
   "execution_count": 23,
   "metadata": {},
   "outputs": [
    {
     "name": "stdout",
     "output_type": "stream",
     "text": [
      "Overwriting prime_numbers.pyx\n"
     ]
    }
   ],
   "source": [
    "%%writefile prime_numbers.pyx\n",
    "def primes_cython(nb_primes):\n",
    "    if nb_primes > 1000:\n",
    "        nb_primes = 1000\n",
    "      \n",
    "    p = list(range(100000)) # number space for checking\n",
    "    len_p = 0  # The current number of elements in p.\n",
    "    n = 2\n",
    "    \n",
    "    while len_p < nb_primes:\n",
    "        # Is n prime?\n",
    "        for i in p[:len_p]:\n",
    "            if n % i == 0:\n",
    "                break\n",
    "\n",
    "        # If no break occurred in the loop, we have a prime.\n",
    "        else:\n",
    "            p[len_p] = n\n",
    "            len_p += 1\n",
    "        n += 1\n",
    "        \n",
    "    result_as_list  = [prime for prime in p[:len_p]]\n",
    "    return result_as_list"
   ]
  },
  {
   "cell_type": "code",
   "execution_count": 24,
   "metadata": {},
   "outputs": [
    {
     "name": "stdout",
     "output_type": "stream",
     "text": [
      "Overwriting setup.py\n"
     ]
    }
   ],
   "source": [
    "%%writefile setup.py\n",
    "from distutils.core import setup\n",
    "from Cython.Build import cythonize\n",
    "\n",
    "setup(\n",
    "    ext_modules = cythonize(\"prime_numbers.pyx\")\n",
    ")"
   ]
  },
  {
   "cell_type": "code",
   "execution_count": 25,
   "metadata": {
    "scrolled": false
   },
   "outputs": [
    {
     "name": "stdout",
     "output_type": "stream",
     "text": [
      "Compiling prime_numbers.pyx because it changed.\n",
      "[1/1] Cythonizing prime_numbers.pyx\n",
      "/home/kevin/.conda/envs/work_3/lib/python3.6/site-packages/Cython/Compiler/Main.py:367: FutureWarning: Cython directive 'language_level' not set, using 2 for now (Py2). This will change in a later release! File: /home/kevin/projects/accelerate_python_code/prime_numbers.pyx\n",
      "  tree = Parsing.p_module(s, pxd, full_module_name)\n",
      "running build_ext\n",
      "building 'prime_numbers' extension\n",
      "gcc -pthread -Wno-unused-result -Wsign-compare -DNDEBUG -g -fwrapv -O3 -Wall -m64 -fPIC -m64 -fPIC -fPIC -I/home/kevin/.conda/envs/work_3/include/python3.6m -c prime_numbers.c -o build/temp.linux-x86_64-3.6/prime_numbers.o\n",
      "gcc -pthread -shared -L/home/kevin/.conda/envs/work_3/lib -Wl,-rpath=/home/kevin/.conda/envs/work_3/lib,--no-as-needed -L/home/kevin/.conda/envs/work_3/lib -Wl,-rpath=/home/kevin/.conda/envs/work_3/lib,--no-as-needed build/temp.linux-x86_64-3.6/prime_numbers.o -L/home/kevin/.conda/envs/work_3/lib -lpython3.6m -o /home/kevin/projects/accelerate_python_code/prime_numbers.cpython-36m-x86_64-linux-gnu.so\n"
     ]
    }
   ],
   "source": [
    "!python setup.py build_ext --inplace"
   ]
  },
  {
   "cell_type": "code",
   "execution_count": 28,
   "metadata": {},
   "outputs": [
    {
     "data": {
      "text/plain": [
       "['.ipynb_checkpoints',\n",
       " 'vmdscene.obj',\n",
       " 'vmdscene.mtl',\n",
       " 'accelerate_python_code.ipynb',\n",
       " 'accelerate_python_code.pdf',\n",
       " 'helloworld.pyx',\n",
       " 'helloworld.c',\n",
       " 'helloworld.cpython-36m-x86_64-linux-gnu.so',\n",
       " 'setup.py',\n",
       " 'build',\n",
       " 'prime_numbers.pyx',\n",
       " 'prime_numbers_cdef.pyx',\n",
       " 'prime_numbers_cdef.c',\n",
       " 'prime_numbers_cdef.cpython-36m-x86_64-linux-gnu.so',\n",
       " 'prime_numbers.c',\n",
       " '.nfs000000000b7a973100015283',\n",
       " 'prime_numbers.cpython-36m-x86_64-linux-gnu.so']"
      ]
     },
     "execution_count": 28,
     "metadata": {},
     "output_type": "execute_result"
    }
   ],
   "source": [
    "import os\n",
    "os.listdir()"
   ]
  },
  {
   "cell_type": "markdown",
   "metadata": {},
   "source": [
    "**Importing from shared objects is "
   ]
  },
  {
   "cell_type": "code",
   "execution_count": 6,
   "metadata": {},
   "outputs": [],
   "source": [
    "from prime_numbers import primes_cython"
   ]
  },
  {
   "cell_type": "code",
   "execution_count": 7,
   "metadata": {
    "scrolled": true
   },
   "outputs": [
    {
     "name": "stdout",
     "output_type": "stream",
     "text": [
      "[2, 11, 23, 41, 59, 73, 97, 109, 137, 157, 179, 197, 227, 241, 269, 283, 313, 347, 367, 389, 419, 439, 461, 487, 509, 547, 571, 599, 617, 643, 661, 691, 727, 751, 773, 811, 829, 859, 883, 919, 947, 977, 1009, 1031, 1051, 1087, 1103, 1129, 1171, 1201, 1229, 1259, 1289, 1303, 1327, 1381, 1427, 1447, 1471, 1489, 1523, 1553, 1579, 1607, 1621, 1663, 1697, 1723, 1753, 1787, 1823, 1867, 1879, 1913, 1951, 1993, 2011, 2039, 2081, 2099, 2131, 2153, 2207, 2239, 2269, 2293, 2333, 2351, 2381, 2399, 2437, 2467, 2521, 2549, 2591, 2621, 2659, 2683, 2699, 2719, 2749, 2789, 2803, 2843, 2879, 2909, 2953, 2971, 3019, 3049, 3083, 3121, 3169, 3203, 3229, 3259, 3307, 3329, 3359, 3389, 3433, 3463, 3499, 3529, 3547, 3581, 3613, 3637, 3673, 3701, 3733, 3769, 3803, 3847, 3877, 3911, 3929, 3967, 4007, 4027, 4073, 4099, 4133, 4159, 4217, 4241, 4261, 4289, 4339, 4373, 4421, 4451, 4483, 4517, 4549, 4591, 4637, 4651, 4679, 4723, 4759, 4793, 4817, 4877, 4919, 4943, 4969, 4999, 5021, 5059, 5099, 5119, 5171, 5209, 5237, 5281, 5323, 5381, 5407, 5431, 5449, 5483, 5519, 5557, 5581, 5641, 5657, 5689, 5717, 5749, 5801, 5827, 5851, 5869, 5903, 5953, 6011, 6047, 6079, 6113, 6143, 6197, 6217, 6257, 6277, 6311, 6337, 6361, 6389, 6449, 6481, 6547, 6569, 6599, 6653, 6679, 6703, 6737, 6781, 6823, 6841, 6871, 6911, 6959, 6977, 7001, 7039, 7079, 7127, 7177, 7211, 7237, 7283, 7321, 7351, 7417, 7459, 7489, 7523, 7547, 7573, 7591, 7639, 7673, 7699, 7727, 7759, 7823, 7867, 7883]\n",
      "CPU times: user 52 ms, sys: 4 ms, total: 56 ms\n",
      "Wall time: 55.4 ms\n"
     ]
    }
   ],
   "source": [
    "%%time\n",
    "primes = primes_cython(1000)\n",
    "print(primes[::4])"
   ]
  },
  {
   "cell_type": "markdown",
   "metadata": {},
   "source": [
    "## Cython with C-types"
   ]
  },
  {
   "cell_type": "code",
   "execution_count": 8,
   "metadata": {},
   "outputs": [
    {
     "name": "stdout",
     "output_type": "stream",
     "text": [
      "Writing prime_numbers_cdef.pyx\n"
     ]
    }
   ],
   "source": [
    "%%writefile prime_numbers_cdef.pyx\n",
    "def primes_cython_cdef(int nb_primes):\n",
    "    cdef int n, i, len_p\n",
    "    cdef int p[1000]\n",
    "    if nb_primes > 1000:\n",
    "        nb_primes = 1000\n",
    "\n",
    "    len_p = 0  # The current number of elements in p.\n",
    "    n = 2\n",
    "    while len_p < nb_primes:\n",
    "        # Is n prime?\n",
    "        for i in p[:len_p]:\n",
    "            if n % i == 0:\n",
    "                break\n",
    "\n",
    "        # If no break occurred in the loop, we have a prime.\n",
    "        else:\n",
    "            p[len_p] = n\n",
    "            len_p += 1\n",
    "        n += 1\n",
    "\n",
    "    # Let's return the result in a python list:\n",
    "    result_as_list  = [prime for prime in p[:len_p]]\n",
    "    return result_as_list"
   ]
  },
  {
   "cell_type": "code",
   "execution_count": 9,
   "metadata": {},
   "outputs": [
    {
     "name": "stdout",
     "output_type": "stream",
     "text": [
      "Overwriting setup.py\n"
     ]
    }
   ],
   "source": [
    "%%writefile setup.py\n",
    "from distutils.core import setup\n",
    "from Cython.Build import cythonize\n",
    "\n",
    "setup(\n",
    "    ext_modules = cythonize(\"prime_numbers_cdef.pyx\")\n",
    ")"
   ]
  },
  {
   "cell_type": "code",
   "execution_count": 10,
   "metadata": {
    "scrolled": false
   },
   "outputs": [
    {
     "name": "stdout",
     "output_type": "stream",
     "text": [
      "Compiling prime_numbers_cdef.pyx because it changed.\n",
      "[1/1] Cythonizing prime_numbers_cdef.pyx\n",
      "/home/kevin/.conda/envs/work_3/lib/python3.6/site-packages/Cython/Compiler/Main.py:367: FutureWarning: Cython directive 'language_level' not set, using 2 for now (Py2). This will change in a later release! File: /home/kevin/projects/accelerate_python_code/prime_numbers_cdef.pyx\n",
      "  tree = Parsing.p_module(s, pxd, full_module_name)\n",
      "running build_ext\n",
      "building 'prime_numbers_cdef' extension\n",
      "gcc -pthread -Wno-unused-result -Wsign-compare -DNDEBUG -g -fwrapv -O3 -Wall -m64 -fPIC -m64 -fPIC -fPIC -I/home/kevin/.conda/envs/work_3/include/python3.6m -c prime_numbers_cdef.c -o build/temp.linux-x86_64-3.6/prime_numbers_cdef.o\n",
      "gcc -pthread -shared -L/home/kevin/.conda/envs/work_3/lib -Wl,-rpath=/home/kevin/.conda/envs/work_3/lib,--no-as-needed -L/home/kevin/.conda/envs/work_3/lib -Wl,-rpath=/home/kevin/.conda/envs/work_3/lib,--no-as-needed build/temp.linux-x86_64-3.6/prime_numbers_cdef.o -L/home/kevin/.conda/envs/work_3/lib -lpython3.6m -o /home/kevin/projects/accelerate_python_code/prime_numbers_cdef.cpython-36m-x86_64-linux-gnu.so\n"
     ]
    }
   ],
   "source": [
    "!python setup.py build_ext --inplace"
   ]
  },
  {
   "cell_type": "code",
   "execution_count": 14,
   "metadata": {},
   "outputs": [],
   "source": [
    "from prime_numbers_cdef import primes_cython_cdef"
   ]
  },
  {
   "cell_type": "code",
   "execution_count": 16,
   "metadata": {
    "scrolled": true
   },
   "outputs": [
    {
     "name": "stdout",
     "output_type": "stream",
     "text": [
      "[2, 11, 23, 41, 59, 73, 97, 109, 137, 157, 179, 197, 227, 241, 269, 283, 313, 347, 367, 389, 419, 439, 461, 487, 509, 547, 571, 599, 617, 643, 661, 691, 727, 751, 773, 811, 829, 859, 883, 919, 947, 977, 1009, 1031, 1051, 1087, 1103, 1129, 1171, 1201, 1229, 1259, 1289, 1303, 1327, 1381, 1427, 1447, 1471, 1489, 1523, 1553, 1579, 1607, 1621, 1663, 1697, 1723, 1753, 1787, 1823, 1867, 1879, 1913, 1951, 1993, 2011, 2039, 2081, 2099, 2131, 2153, 2207, 2239, 2269, 2293, 2333, 2351, 2381, 2399, 2437, 2467, 2521, 2549, 2591, 2621, 2659, 2683, 2699, 2719, 2749, 2789, 2803, 2843, 2879, 2909, 2953, 2971, 3019, 3049, 3083, 3121, 3169, 3203, 3229, 3259, 3307, 3329, 3359, 3389, 3433, 3463, 3499, 3529, 3547, 3581, 3613, 3637, 3673, 3701, 3733, 3769, 3803, 3847, 3877, 3911, 3929, 3967, 4007, 4027, 4073, 4099, 4133, 4159, 4217, 4241, 4261, 4289, 4339, 4373, 4421, 4451, 4483, 4517, 4549, 4591, 4637, 4651, 4679, 4723, 4759, 4793, 4817, 4877, 4919, 4943, 4969, 4999, 5021, 5059, 5099, 5119, 5171, 5209, 5237, 5281, 5323, 5381, 5407, 5431, 5449, 5483, 5519, 5557, 5581, 5641, 5657, 5689, 5717, 5749, 5801, 5827, 5851, 5869, 5903, 5953, 6011, 6047, 6079, 6113, 6143, 6197, 6217, 6257, 6277, 6311, 6337, 6361, 6389, 6449, 6481, 6547, 6569, 6599, 6653, 6679, 6703, 6737, 6781, 6823, 6841, 6871, 6911, 6959, 6977, 7001, 7039, 7079, 7127, 7177, 7211, 7237, 7283, 7321, 7351, 7417, 7459, 7489, 7523, 7547, 7573, 7591, 7639, 7673, 7699, 7727, 7759, 7823, 7867, 7883]\n",
      "CPU times: user 8 ms, sys: 0 ns, total: 8 ms\n",
      "Wall time: 5.75 ms\n"
     ]
    }
   ],
   "source": [
    "%%time\n",
    "primes = primes_cython_cdef(1000)\n",
    "print(primes[::4])"
   ]
  },
  {
   "cell_type": "markdown",
   "metadata": {},
   "source": [
    "# Reloading cython\n",
    "\n",
    "Cython is a little bit complicated when it comes to reloading the compiled .so files."
   ]
  },
  {
   "cell_type": "code",
   "execution_count": null,
   "metadata": {},
   "outputs": [],
   "source": []
  },
  {
   "cell_type": "markdown",
   "metadata": {},
   "source": [
    "# Import C and C++ code (chapter 7 and 8 from book)"
   ]
  },
  {
   "cell_type": "markdown",
   "metadata": {},
   "source": [
    "# Convert to pdf\n",
    "\n",
    "To build this pdf you need to have jupyter extensions installed. Either with pip:\n",
    "\n",
    "```bash\n",
    "$ pip install jupyter_contrib_nbextensions\n",
    "```\n",
    "\n",
    "or with conda:\n",
    "\n",
    "```bash\n",
    "$ conda install -c conda-forge jupyter_contrib_nbextensions\n",
    "```\n",
    "\n",
    "To convert the notebook into a pdf you can execute:\n",
    "\n",
    "```bash\n",
    "$ jupyter nbconvert --to pdf accelerate_python_code.ipynb\n",
    "```\n",
    "\n",
    "### Errors\n",
    "These errors might occur when you try to convert this notebook into a pdf:\n",
    "\n",
    "**Permissions to a shared object**\n",
    "\n",
    "If you get an error, because python does not have permissions to some shared object execute this:\n",
    "\n",
    "```bash\n",
    "$ export LD_LIBRARY_PATH=/home/kevin/.conda/envs/work_3/lib:$LD_LIBRARY_PATH\n",
    "```\n",
    "**Wrong kernelspec**\n",
    "\n",
    "If you get an error, because conda doesn't know the kernel open the notebook file in a texteditor and change the kernel name by hand.\n",
    "\n",
    "```json\n",
    " \"metadata\": {\n",
    "  \"kernelspec\": {\n",
    "   \"display_name\": \"work_3\",\n",
    "   \"language\": \"python\",\n",
    "   \"name\": \"nb-conda-faster_py_env-py\"\n",
    "```\n",
    "\n",
    "will be changed to:\n",
    "\n",
    "```json\n",
    " \"metadata\": {\n",
    "  \"kernelspec\": {\n",
    "   \"display_name\": \"work_3\",\n",
    "   \"language\": \"python\",\n",
    "   \"name\": \"faster_py_env\"\n",
    "```"
   ]
  },
  {
   "cell_type": "code",
   "execution_count": 3,
   "metadata": {},
   "outputs": [
    {
     "name": "stdout",
     "output_type": "stream",
     "text": [
      "[NbConvertApp] Converting notebook accelerate_python_code.ipynb to pdf\n",
      "[NbConvertApp] Writing 24118 bytes to notebook.tex\n",
      "[NbConvertApp] Building PDF\n",
      "[NbConvertApp] Running xelatex 3 times: ['xelatex', 'notebook.tex']\n",
      "[NbConvertApp] Running bibtex 1 time: ['bibtex', 'notebook']\n",
      "[NbConvertApp] WARNING | bibtex had problems, most likely because there were no citations\n",
      "[NbConvertApp] PDF successfully created\n",
      "[NbConvertApp] Writing 32661 bytes to accelerate_python_code.pdf\n"
     ]
    }
   ],
   "source": [
    "!jupyter nbconvert --to pdf accelerate_python_code.ipynb"
   ]
  }
 ],
 "metadata": {
  "kernelspec": {
   "display_name": "work_3",
   "language": "python",
   "name": "work_3"
  },
  "language_info": {
   "codemirror_mode": {
    "name": "ipython",
    "version": 3
   },
   "file_extension": ".py",
   "mimetype": "text/x-python",
   "name": "python",
   "nbconvert_exporter": "python",
   "pygments_lexer": "ipython3",
   "version": "3.6.6"
  },
  "latex_envs": {
   "LaTeX_envs_menu_present": true,
   "autoclose": false,
   "autocomplete": true,
   "bibliofile": "biblio.bib",
   "cite_by": "apalike",
   "current_citInitial": 1,
   "eqLabelWithNumbers": true,
   "eqNumInitial": 1,
   "hotkeys": {
    "equation": "Ctrl-E",
    "itemize": "Ctrl-I"
   },
   "labels_anchors": false,
   "latex_user_defs": false,
   "report_style_numbering": false,
   "user_envs_cfg": false
  },
  "toc": {
   "base_numbering": 1,
   "nav_menu": {},
   "number_sections": true,
   "sideBar": true,
   "skip_h1_title": false,
   "title_cell": "Table of Contents",
   "title_sidebar": "Contents",
   "toc_cell": false,
   "toc_position": {},
   "toc_section_display": true,
   "toc_window_display": false
  }
 },
 "nbformat": 4,
 "nbformat_minor": 2
}
