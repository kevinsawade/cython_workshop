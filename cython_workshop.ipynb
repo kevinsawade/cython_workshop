{
 "cells": [
  {
   "cell_type": "markdown",
   "metadata": {},
   "source": [
    "# Welcome to the accelerate python code tutorial\n",
    "\n",
    "## This notebook has a pdf\n",
    "\n",
    "This notebook also comes with its own pdf. You can use this pdf as a last-resort tool, when python simply won't work. The very bottom of this notebook contains some instructions for converting this notebook to pdf.\n",
    "\n",
    "## Setting up the environment\n",
    "\n",
    "Let's check if you have cython installed. For this, try to execute the next cell."
   ]
  },
  {
   "cell_type": "code",
   "execution_count": null,
   "metadata": {},
   "outputs": [],
   "source": [
    "from Cython.Build import cythonize"
   ]
  },
  {
   "cell_type": "markdown",
   "metadata": {},
   "source": [
    "If this cell executes fine, you are good to go. If it says something like 'no module named Cython', we need to get it somehow. For this I prepared a portable python deployment with all the packages you need. Here's how to use it:\n",
    "\n",
    "1) Make sure you are not inside another virtual environment. If your prompt has something in parentheses preceding it, like (base) in this example:\n",
    "\n",
    "```bash\n",
    "(base) kevin@pccp18:~$\n",
    "```\n",
    "\n",
    "deactivate the environment with these two commands. One of them should work.\n",
    "\n",
    "```bash\n",
    "$ conda deactivate\n",
    "$ source deactivate\n",
    "```\n",
    "\n",
    "2) Source the virtual environment from this repository.\n",
    "\n",
    "```bash\n",
    "$ source /path/to/repo/venv/bin/activate\n",
    "```\n",
    "\n",
    "3) Confirm if this has worked with these two commands:\n",
    "\n",
    "```bash\n",
    "$ which python\n",
    "> /path/to/repo/bin/python\n",
    "$ python --version\n",
    "> 3.7.something\n",
    "```\n",
    "\n",
    "4) Close this notebook server and open this notebook with the new virtual environment. by calling:\n",
    "\n",
    "```bash\n",
    "$ jupyter-notebook cython_workshop.ipynb\n",
    "```"
   ]
  },
  {
   "cell_type": "markdown",
   "metadata": {},
   "source": [
    "# Cython. It's compiled python.\n",
    "\n",
    "Cython is aimed to be a superset to the python programming language. Cython is a compiled language with python-like syntax. You can write cython files (.pyx) files in a similar manner than you would write normal python files (.py), compile them and import the generated shared object (.so) as a module into your python code. Doing this allows you to greatly decrease the computational overhead at run time, i.e. make python faster. You may find the best use in cython if you use it to compile specific computationally-heavy functions.\n",
    "\n",
    "## The compilation pipeline\n",
    "\n",
    "Cython is always compiled in two steps.\n",
    "\n",
    "- The cython compiler transforms cython code (.pyx) into optimized and platform-independent C or C++ code (.c).\n",
    "- A standard compiler compiles the C code (.c) into a shared object (.so) which can be imported to python.\n",
    "\n",
    "The shared object is platform specific (architecture and OS). Someone running the very niche Windows 10 for ARM will face some difficulties using your .so file. On windows these files also get a different extension (.pyd). After we get this sorted out we will look at how to write and compile cython.\n",
    "\n",
    "## Compilation\n",
    "\n",
    "There are several ways you can utilize to get your cython code compiled and imported into python. Because we work with jupyter notebooks and the people from jupyter have added the nice %%cython cell magic we will use this convenient way to compile cython code. Simply add `%%cython` at the top of your cells and you're good to go.\n",
    "\n",
    "(The other compilation methods are further down in this notebook)"
   ]
  },
  {
   "cell_type": "code",
   "execution_count": null,
   "metadata": {},
   "outputs": [],
   "source": [
    "%load_ext Cython"
   ]
  },
  {
   "cell_type": "markdown",
   "metadata": {},
   "source": [
    "The %%cython cell magic comes with its own options, you can check out here:\n",
    "\n",
    "https://ipython.org/ipython-doc/2/config/extensions/cythonmagic.html"
   ]
  },
  {
   "cell_type": "code",
   "execution_count": null,
   "metadata": {},
   "outputs": [],
   "source": [
    "%%cython\n",
    "def fibonacci(int n):\n",
    "    cdef int i\n",
    "    cdef double a=0.0, b=1.0\n",
    "    for i in range(n):\n",
    "        a, b = a+b, a\n",
    "    return a"
   ]
  },
  {
   "cell_type": "code",
   "execution_count": null,
   "metadata": {},
   "outputs": [],
   "source": [
    "fibonacci(20)"
   ]
  },
  {
   "cell_type": "markdown",
   "metadata": {},
   "source": [
    "The compiled file can be found in ~/.ipython/cython"
   ]
  },
  {
   "cell_type": "markdown",
   "metadata": {},
   "source": [
    "# Going through some projects\n",
    "\n",
    "I think the easiest way to get into cython is to look at some examples. We will write some code in python, port it to cython and make further adjustments to increase speeds. I'll walk you through it.\n",
    "\n",
    "## Factorials\n",
    "\n",
    "To really see how cython can speed up your calculations we need some really difficult to compute stuff. Let's get started with factorials! Here's a pure python implementation of a function which calculates the factorial of the provided input.\n",
    "\n",
    "### Pure python"
   ]
  },
  {
   "cell_type": "code",
   "execution_count": null,
   "metadata": {},
   "outputs": [],
   "source": [
    "def fact(n):\n",
    "    \"\"\"Computes factorial.\"\"\"\n",
    "    if n <= 1:\n",
    "        return 1\n",
    "    return n * fact(n - 1)"
   ]
  },
  {
   "cell_type": "code",
   "execution_count": null,
   "metadata": {},
   "outputs": [],
   "source": [
    "print(fact(4))"
   ]
  },
  {
   "cell_type": "code",
   "execution_count": null,
   "metadata": {},
   "outputs": [],
   "source": [
    "%timeit fact(20)"
   ]
  },
  {
   "cell_type": "markdown",
   "metadata": {},
   "source": [
    "For me, it took 2.53 µs to calculate the factorial of 20. To make this computation faster we can directly port this function to cython."
   ]
  },
  {
   "cell_type": "markdown",
   "metadata": {},
   "source": [
    "### Cython"
   ]
  },
  {
   "cell_type": "code",
   "execution_count": null,
   "metadata": {},
   "outputs": [],
   "source": [
    "%load_ext cython"
   ]
  },
  {
   "cell_type": "code",
   "execution_count": null,
   "metadata": {},
   "outputs": [],
   "source": [
    "%%cython\n",
    "\n",
    "def fact_cy(n):\n",
    "    \"\"\"Also computes factorial.\"\"\"\n",
    "    if n <= 1:\n",
    "        return 1\n",
    "    return n * fact_cy(n - 1)"
   ]
  },
  {
   "cell_type": "code",
   "execution_count": null,
   "metadata": {},
   "outputs": [],
   "source": [
    "%timeit fact_cy(20)"
   ]
  },
  {
   "cell_type": "markdown",
   "metadata": {},
   "source": [
    "For me, it took 848 ns on average to calculate the factorial of 20. This is a pretty nice speedup and it is achieved by simply putting `%%cython` at the start of the cell."
   ]
  },
  {
   "cell_type": "markdown",
   "metadata": {},
   "source": [
    "### Cython with static typing\n",
    "\n",
    "Further speedup will be achieved by telling cython what datatype your variables are going to be. Cython will optimize the C code depending on what types you are using. For static type declaration you have to adjust the syntax of your functions.\n",
    "\n",
    "- The input type will be declared in the parentheses of the function declaration.\n",
    "```cython\n",
    "def func_namme(int i, long n, double a):\n",
    "    # ...\n",
    "```\n",
    "Here, the datatypes of C need to be used. `long` is a long signed integer, `double` is a double precision floating point value. For more C types there's a wikipedia article about it: https://en.wikipedia.org/wiki/C_data_types\n",
    "\n",
    "- Types of variables used in the function body will be declared with the `cdef` statement\n",
    "\n",
    "```cython\n",
    "def some_func():\n",
    "    cdef int i, n=20\n",
    "    cdef float z=2.4e-10\n",
    "```\n",
    "\n",
    "If we change the syntax of our code like this, it will no longer be executable in python."
   ]
  },
  {
   "cell_type": "code",
   "execution_count": null,
   "metadata": {},
   "outputs": [],
   "source": [
    "%%cython\n",
    "\n",
    "def fact_cy_static(long n):\n",
    "    \"\"\"Also computes factorial.\"\"\"\n",
    "    if n <= 1:\n",
    "        return 1\n",
    "    return n * fact_cy_static(n - 1)"
   ]
  },
  {
   "cell_type": "code",
   "execution_count": null,
   "metadata": {},
   "outputs": [],
   "source": [
    "%timeit fact_cy_static(20)"
   ]
  },
  {
   "cell_type": "markdown",
   "metadata": {},
   "source": [
    "For me it took 665 ns on average."
   ]
  },
  {
   "cell_type": "markdown",
   "metadata": {},
   "source": [
    "### Static functions\n",
    "\n",
    "The functions in cython itself can also be statically typed with the `cdef` statement. This will grant us further speedup, because the code will be optimized by statically defining the return type of the function. To statically define a cython function use this syntax:\n",
    "\n",
    "```cython\n",
    "cdef double func_name(int i, double z):\n",
    "    # ...\n",
    "```\n",
    "\n",
    "There's a minor draw-back when using static functions: These functions can't return something python can use. We need to wrap these static functions with a more dynamic python function. A simple dynamic defined wrapping function, calling the static function, is oftentimes sufficient."
   ]
  },
  {
   "cell_type": "code",
   "execution_count": null,
   "metadata": {},
   "outputs": [],
   "source": [
    "%%cython\n",
    "cdef long c_fact(long n):\n",
    "    \"\"\"Computes factorial very fast.\"\"\"\n",
    "    if n <= 1:\n",
    "        return 1\n",
    "    return n * c_fact(n - 1)\n",
    "\n",
    "def wrap_c_fact(n):\n",
    "    return c_fact(n)"
   ]
  },
  {
   "cell_type": "code",
   "execution_count": null,
   "metadata": {},
   "outputs": [],
   "source": [
    "%timeit wrap_c_fact(20)"
   ]
  },
  {
   "cell_type": "markdown",
   "metadata": {},
   "source": [
    "For me it took 68.6 ns on average. Quite the significant speedup. But we can go even faster."
   ]
  },
  {
   "cell_type": "markdown",
   "metadata": {},
   "source": [
    "### The fastest factorial\n",
    "\n",
    "**By removing the recursion from this script, we reach the limit.**"
   ]
  },
  {
   "cell_type": "code",
   "execution_count": null,
   "metadata": {},
   "outputs": [],
   "source": [
    "%%cython\n",
    "cdef long c_fact_no_rec(long n):\n",
    "    \"\"\"Computes factorial very fast.\"\"\"\n",
    "    cdef float fact\n",
    "    cdef long i\n",
    "    for i in range(n + 1):\n",
    "        if i <= 1:\n",
    "            fact *= 1\n",
    "        fact *= i\n",
    "\n",
    "def wrap_c_fact_no_rec(n):\n",
    "    return c_fact_no_rec(n)"
   ]
  },
  {
   "cell_type": "code",
   "execution_count": null,
   "metadata": {},
   "outputs": [],
   "source": [
    "%timeit wrap_c_fact_no_rec(20)"
   ]
  },
  {
   "cell_type": "markdown",
   "metadata": {},
   "source": [
    "For me it took 37.1 ns on average. Quite the speedup coming from 2.53 µs."
   ]
  },
  {
   "cell_type": "markdown",
   "metadata": {},
   "source": [
    "## LJ simulation\n",
    "\n",
    "Here's a LJ simulation I wrote. Let's evaluate its performance and then try to part it to cython."
   ]
  },
  {
   "cell_type": "code",
   "execution_count": null,
   "metadata": {},
   "outputs": [],
   "source": [
    "import numpy as np\n",
    "import time\n",
    "from scipy.stats import maxwell as scipy_maxwell\n",
    "import matplotlib as mpl\n",
    "import matplotlib.pyplot as plt\n",
    "import matplotlib.animation as animation\n",
    "%matplotlib notebook\n",
    "    \n",
    "class Parameters:\n",
    "    # Simulation parameters/constants \n",
    "    kb = 1.380e-23 # Boltzmann (J/K)\n",
    "    Nav = 6.022e23 # Avogadro (/mol)\n",
    "    m = (39.95/Nav)*(10**-3) # atomic mass unit (kg)\n",
    "    epsilon = kb*120 # depth of potential well (J/K)\n",
    "    sigma = 3.4e-10 # sigma in Lennard-Jones Potential (m)\n",
    "    rcut = 2.25*sigma # Cutoff radius, (m)\n",
    "    rcutsq = rcut**2 # Square of the cutoff radius, (m^2)\n",
    "    def __init__(self):\n",
    "        pass\n",
    "    \n",
    "    def __getitem__(self, item):\n",
    "        return getattr(self, item)\n",
    "    \n",
    "class LJ:\n",
    "    def __init__(self):\n",
    "        params = Parameters()\n",
    "        epsilon = params['epsilon']\n",
    "        sigma = params['sigma']\n",
    "        self.potential = lambda x: 4 * epsilon * ((sigma/x)**12 - (sigma/x)**6)\n",
    "        self.lj_force = lambda x: 24 * epsilon / x * ((2*(sigma / x)**12) - (sigma / x)**7)\n",
    "\n",
    "class State:\n",
    "    \"\"\"The current state of a simple LJ simulation.\n",
    "    \n",
    "    This is a python-implementation using numpy. It also contains a plotting tool\n",
    "    which allows visualization of 2D simulations. The numpy-optimized cython version\n",
    "    follows soon. The code ist not very optimized, especially force calculations. This\n",
    "    can greatly be accleerated by C for loops. Furthermore the LJ and Box classes\n",
    "    could also be implemented in this class. I specificially expunged them from this class\n",
    "    to also demonstrate 'cython libraries', where pieces of cython code access other cython\n",
    "    code from different files.\n",
    "    \n",
    "    Todo:\n",
    "        * Write a Maxwell-Boltzmann distribution. It is basically a chi\n",
    "            distribution with specific parameters. See this link for more info:\n",
    "            https://docs.scipy.org/doc/scipy-0.14.0/reference/generated/scipy.stats.boltzmann.html\n",
    "            \n",
    "    Attributes:\n",
    "        n_particles (int): The number of particles in the system.\n",
    "        dim (int): The dimension of your system. Only 2 and 3 makes sense, really.\n",
    "        dt (float): The timestep in femtoseconds (fs).\n",
    "        frame (int): At what frame the state is currently.\n",
    "        time (float): The time the state is currently. time == dt * frame\n",
    "        nstlist (int): If frame % nstlist == 0, the neighbor-list will be updated.\n",
    "        cutoff (flaot): The cutoff for neighbor-searching. Defaults to 2 * sigma, 7.14e-10.\n",
    "        neighbor_list (list): List containing [i, j, dist] lists, which give the indices and\n",
    "            the distance of neighbors.\n",
    "        temp (float): The current temperature of the system.\n",
    "        masses (np.ndarray): The masses of the atoms. Most often an array of 40 amu for Argon.\n",
    "        positions (np.ndarray): The positions of your atoms. positions.shape == (n_particles, dim)\n",
    "        velocities (np.ndarray): The velocities.\n",
    "        accelerations (np.array): The accelerations.\n",
    "        momenta (np.array): The momenta of the particles.\n",
    "        forces (np.ndarray): The forces of the system. This array has a special formatting.\n",
    "            forces[:,0] is the index of the first atom, forces[:,1] is the index of the\n",
    "            second atom. forces[:,2:] are the directional components of this force (based on\n",
    "            how many dimensions the state has).\n",
    "        potentials (np.ndarray): The potentials of the system. This array has a special formatting.\n",
    "            potentials[:,0] is the index of the first atom, potentials[:,1] is the index of the\n",
    "            second atom. potentials[:,2:] are the directional components of this potential (based on\n",
    "            how many dimensions the state has).\n",
    "        self.pot_energy (float): The current potential energy.\n",
    "        self.kin_energy (float): The current kinetic energy.\n",
    "        self.tot_energy (float): The current total energy.\n",
    "        \n",
    "    \"\"\"\n",
    "    def __init__(self, positions, velocities='random', masses=None, nststep=5, dt=0.02,\n",
    "                 temp=273, cutoff=7.14e-10, boundaries=100e-10):\n",
    "        \"\"\"Initializes the State class and prepares the initial state of the sim.\n",
    "        \n",
    "        Args:\n",
    "            positions (np.ndarray): The positions of your atoms. 2D or 3D or even more.\n",
    "            \n",
    "        Keyworded Args:\n",
    "            velocities (np.ndarray/str): The initial velocities of your atoms. Can be\n",
    "                a numpy array of velocities. Can be 'random', or 'boltzmann', depending\n",
    "                on how you would like to generate starting velocities. Defaults to\n",
    "                'random'.\n",
    "            masses (np.ndarray): The masses of your atoms. If not provided all\n",
    "                atoms will be set to have the mass of Argon. Defaults to None.\n",
    "            nststep (int): How often the neighbor list will be updated. Defaults to 5.\n",
    "            dt (int): The integrator step in fs. Defaults to 0.02.\n",
    "            temp (float): The goal temperature in Kelvin. Defaults to 273.\n",
    "            cutoff (float): The cutoff for neighbor-searching. Defaults to 2 * sigma, 7.14e-10.\n",
    "            bondaries (float): The max/min value of the simulation box in m.\n",
    "                The box is centered on the coordinate origin. Defaults to 100e-10.\n",
    "            \n",
    "        Raises:\n",
    "            AssertionError: If the provided arrays are misaligned.\n",
    "        \n",
    "        \"\"\"\n",
    "        # get some initial info\n",
    "        self.positions = positions\n",
    "        self.n_particles, self.dim = self.positions.shape\n",
    "        self.save_positions = self.positions.reshape(1, self.n_particles, self.dim)\n",
    "        self.dt = dt\n",
    "        self.temp = temp\n",
    "        self.nststep = nststep\n",
    "        self.cutoff = cutoff\n",
    "        self.boundaries = boundaries\n",
    "        # masses and velocities check and set\n",
    "        if not np.any(masses):\n",
    "            self.masses = np.full(self.n_particles, 40 * Parameters.m) # 40 amu is the mass of argon\n",
    "        self.velocities = velocities\n",
    "        self.momenta = np.multiply(self.masses[:, np.newaxis], self.velocities)\n",
    "        \n",
    "        # some sub-classes\n",
    "        self.lj = LJ()\n",
    "\n",
    "        # initial state descriptors\n",
    "        self.time = 0\n",
    "        self.frame = 0\n",
    "        self.dt = dt * 1e-15\n",
    "        \n",
    "        # initial force, energy, temperature and neighbors calculation\n",
    "        self.forces, self.accelerations, self.potentials = self.calc_pot_force_accel(self.positions, self.masses, self.lj.potential, self.lj.lj_force)\n",
    "        self._calc_energy_and_temp()\n",
    "        \n",
    "        # check whether positions and velocities are correcly shaped\n",
    "        assert self.positions.shape == self.velocities.shape\n",
    "        \n",
    "        # the propagation is handled by a generator found in self._propagate()\n",
    "        self.traj = self._propagate()\n",
    "        \n",
    "    @property\n",
    "    def velocities(self):\n",
    "        return self.__velocities\n",
    "    \n",
    "    @velocities.setter\n",
    "    def velocities(self, velocities):\n",
    "        if velocities == 'random':\n",
    "            self.__velocities = (np.random.rand(self.n_particles, self.dim) * 20 - 10) * 5\n",
    "        elif velocities == 'boltzmann':\n",
    "            self.__velocities = self.get_vel_from_boltzmann(self.positions.shape, self.temp)\n",
    "        elif isinstance(velocities, np.ndarray):\n",
    "            self.__velocities = velocities\n",
    "        else:\n",
    "            raise Exception(\"Argument velocitites takes np.ndarray, 'random' or 'boltzmann', \"\n",
    "                          f\"You provided {velocities}\")\n",
    "            \n",
    "    @staticmethod\n",
    "    def pbc(pos, boundaries):\n",
    "        for d in range(pos.shape[1]):\n",
    "            upper_bound = boundaries\n",
    "            lower_bound = - boundaries\n",
    "            tmp_pos = pos[:, d] - upper_bound\n",
    "            upper_atoms = np.where(tmp_pos > 0)\n",
    "            pos[upper_atoms, d] -= (upper_bound-lower_bound)\n",
    "            del tmp_pos, upper_atoms\n",
    "            tmp_pos = lower_bound - pos[:, d]\n",
    "            lower_atoms = np.where(tmp_pos > 0)\n",
    "            pos[lower_atoms, d] += (upper_bound-lower_bound)\n",
    "            del tmp_pos, lower_atoms\n",
    "            del upper_bound, lower_bound\n",
    "        return pos\n",
    "    \n",
    "    @staticmethod\n",
    "    def get_vel_from_boltzmann(shape, temp):\n",
    "        \"\"\"Returns random velocities given by a Maxwell-Boltzmann distribution.\"\"\"\n",
    "        scaling_factor = np.sqrt(Parameters.kb*temp/Parameters.m)\n",
    "        # return np.random.normal(0, 1, shape) * scaling_factor # this returns a normal, which is approximately fine\n",
    "        directions = np.vstack([d / np.linalg.norm(d) for d in np.random.rand(*shape)])\n",
    "        velocities = directions * scipy_maxwell.rvs(loc=0, scale=temp, size=shape[0]).reshape(shape[0], 1)\n",
    "        return velocities\n",
    "    \n",
    "    @staticmethod\n",
    "    def calc_pot_force_accel(positions, masses, pot_func, force_func, nstlist=False):\n",
    "        \"\"\"Calculates forces, accelerations and Potentials.\"\"\"\n",
    "        if np.any(nstlist):\n",
    "            forces = []\n",
    "            potentials = []\n",
    "            n_particles = positions.shape[0]\n",
    "            accelerations = np.zeros(positions.shape)\n",
    "            for item in nstlist:\n",
    "                i, j = item[:2].astype(int)\n",
    "                dist = item[2]\n",
    "                r = item[3:]\n",
    "                if not dist:\n",
    "                    # dist needs new calculation\n",
    "                    r = positions[i] - positions[j]\n",
    "                    dist = np.linalg.norm(r)\n",
    "                # now calculate forces and the other shenanigans\n",
    "                force = force_func(dist) * r\n",
    "                pot = pot_func(dist)\n",
    "                forces.append([i, j, *force])\n",
    "                potentials.append([i, j, pot])\n",
    "                accelerations[i] += force / masses[i]\n",
    "                accelerations[j] -= force / masses[j]\n",
    "            forces = np.array(forces)\n",
    "            potentials = np.array(potentials)\n",
    "            return forces, accelerations, potentials\n",
    "        else:\n",
    "            forces = []\n",
    "            potentials = []\n",
    "            n_particles = positions.shape[0]\n",
    "            accelerations = np.zeros(positions.shape)\n",
    "            for i in range(n_particles):\n",
    "                for j in range(n_particles):\n",
    "                    if i >= j:\n",
    "                        continue\n",
    "                    r = positions[i] - positions[j]\n",
    "                    dist = np.linalg.norm(r)\n",
    "                    force = force_func(dist) * r\n",
    "                    pot = pot_func(dist)\n",
    "                    forces.append([i, j, *force])\n",
    "                    potentials.append([i, j, pot])\n",
    "                    accelerations[i] += force / masses[i]\n",
    "                    accelerations[j] -= force / masses[j]\n",
    "            forces = np.array(forces)\n",
    "            potentials = np.array(potentials)\n",
    "            return forces, accelerations, potentials\n",
    "        \n",
    "    def _propagate(self):\n",
    "        \"\"\"Uses generator to propagate the state.\"\"\"\n",
    "        pos = self.positions\n",
    "        forces = self.forces\n",
    "        velocities = self.velocities\n",
    "        accelerations = self.accelerations\n",
    "        potentials = self.potentials\n",
    "        t = self.time\n",
    "        f = self.frame\n",
    "        while True:\n",
    "            pos = self.pbc(pos + self.velocities * self.dt + 0.5 * self.accelerations * self.dt ** 2, self.boundaries)\n",
    "            # only update the velocities where the accelerations are not euqal to zero.\n",
    "            # Otherwise keep the velocities constant\n",
    "            velocities = accelerations * self.dt\n",
    "            forces, accelerations, potentials= self.calc_pot_force_accel(pos,\n",
    "                                                                         self.masses,\n",
    "                                                                         self.lj.potential,\n",
    "                                                                         self.lj.lj_force,\n",
    "                                                                         nstlist=self.neighbor_list)\n",
    "            t += self.dt\n",
    "            f += 1\n",
    "            yield pos, velocities, accelerations, forces, potentials, t, f\n",
    "            \n",
    "    def _update_plot(self, i):\n",
    "        \"\"\"Calls the _propagate generator and updates the scatter plot self.scat\"\"\"\n",
    "        data, velocities, accelerations, forces, potentials, t, f = next(self.traj)\n",
    "        # Set x and y data...\n",
    "        self.scat.set_offsets(data)\n",
    "        # We need to return the updated artist for FuncAnimation to draw..\n",
    "        # Note that it expects a sequence of artists, thus the trailing comma.\n",
    "        return self.scat,\n",
    "        \n",
    "    def _plot(self):\n",
    "        \"\"\"Initial drawing of the scatter plot.\"\"\"\n",
    "        pos, velocities, accelerations, forces, potentials, t, f = next(self.traj)\n",
    "        self.scat = self.ax.scatter(*pos.T, s=150, edgecolor=\"k\")\n",
    "        self.ax.axis([-self.boundaries, self.boundaries, -self.boundaries, self.boundaries])\n",
    "        # For FuncAnimation's sake, we need to return the artist we'll be using\n",
    "        # Note that it expects a sequence of artists, thus the trailing comma.\n",
    "        return self.scat,\n",
    "    \n",
    "    def _calc_energy_and_temp(self):\n",
    "        \"\"\"Calcs current energty and temp.\"\"\"\n",
    "        self.pot_energy = self.potentials[:,2].sum()\n",
    "        self.kin_energy = (0.5 * self.masses * np.linalg.norm(self.velocities, axis=1) ** 2).sum()\n",
    "        self.tot_energy = self.pot_energy + self.kin_energy\n",
    "        self.temp = self.kin_energy * 2 / (Parameters.kb * (self.dim * self.n_particles - self.dim))\n",
    "        \n",
    "    def _find_neighbors(self):\n",
    "        \"\"\"Calculates the distances between particles and updates the neighbor list\"\"\"\n",
    "        self.neighbor_list = []\n",
    "        for i in range(self.n_particles):\n",
    "            for j in range(self.n_particles):\n",
    "                if i >= j:\n",
    "                    continue\n",
    "                r = self.positions[i] - self.positions[j]\n",
    "                dist = np.linalg.norm(r)\n",
    "                if dist <= self.cutoff:\n",
    "                    self.neighbor_list.append([i, j, dist, *r])\n",
    "        self.neighbor_list = np.array(self.neighbor_list)\n",
    "            \n",
    "    def update(self):\n",
    "        \"\"\"Calls next item from the _propagate generator.\"\"\"\n",
    "        if self.frame % self.nststep == 0:\n",
    "            self._find_neighbors()\n",
    "            (self.positions,\n",
    "             self.velocities,\n",
    "             self.accelerations,\n",
    "             self.forces,\n",
    "             self.potentials,\n",
    "             self.time,\n",
    "             self.frame) = next(self.traj)\n",
    "        else:\n",
    "            self.neighbor_list[:,2] = 0\n",
    "            (self.positions,\n",
    "             self.velocities,\n",
    "             self.accelerations,\n",
    "             self.forces,\n",
    "             self.potentials,\n",
    "             self.time,\n",
    "             self.frame) = next(self.traj)\n",
    "        self._calc_energy_and_temp()\n",
    "            \n",
    "    def run_with_plot(self):\n",
    "        \"\"\"Runs the sim and plots stuff.\"\"\"\n",
    "        self.neighbor_list = False\n",
    "        self.fig, self.ax = plt.subplots()\n",
    "        self.ani = animation.FuncAnimation(self.fig, func=self._update_plot,\n",
    "                                           interval=5, init_func=self._plot, blit=True)\n",
    "        \n",
    "    def plot_current_state(self):\n",
    "        \"\"\"Simple scatter plot of the particles in the current system.\"\"\"\n",
    "        fig, ax = plt.subplots()\n",
    "        ax.axis([-self.boundaries, self.boundaries, -self.boundaries, self.boundaries])\n",
    "        ax.scatter(*self.positions.T, s=150, edgecolor=\"k\")\n",
    "        \n",
    "    def print_current_state(self):\n",
    "        \"\"\"Prints a longer string, intended as a log.\"\"\"\n",
    "        s = ''\n",
    "        s += f\"Simulation contains {self.n_particles} particles in {self.dim} dimensions.\\n\"\n",
    "        s += f\"We are at frame {self.frame} at cumulated {self.time} fs.\\n\"\n",
    "        s += f\"Current Kinetic Energy is {self.kin_energy} J, Potential Energy is {self.pot_energy} J, Temperature is {self.temp} K.\\n\"\n",
    "        s += f\"The Box is cubic and expands to {self.boundaries} m.\"\n",
    "        print(s)\n",
    "        \n",
    "    def _build_str(self):\n",
    "        \"\"\"Is calles by the __str__ and __repr__ methods. Prints info about the object.\"\"\"\n",
    "        s = ''\n",
    "        s += f\"Simulation at frame {self.frame} with {self.n_particles} particles\"\n",
    "        return s\n",
    "    \n",
    "    def __str__(self):\n",
    "        return f\"<{self._build_str()}>\"\n",
    "    \n",
    "    def __repr__(self):\n",
    "        return f\"<{self._build_str()} at 0x{id(self):02x}>\""
   ]
  },
  {
   "cell_type": "markdown",
   "metadata": {},
   "source": [
    "We initialize the simulation with 100 particles in 2D (100, 2) which will be placed between -10 and 10 nm on both, the x and y axis."
   ]
  },
  {
   "cell_type": "code",
   "execution_count": null,
   "metadata": {},
   "outputs": [],
   "source": [
    "np.random.seed(1)\n",
    "positions = (np.random.rand(20, 2) * 20 - 10) * 1e-10\n",
    "# due to the large integrator step of 1000fs, neighbors will be calculated every step\n",
    "sim = State(positions, velocities='random', dt=1000, nststep=1, boundaries=10e-10)\n",
    "print(sim)"
   ]
  },
  {
   "cell_type": "markdown",
   "metadata": {},
   "source": [
    "The simulation class also comes with some animation we can take a look at."
   ]
  },
  {
   "cell_type": "code",
   "execution_count": null,
   "metadata": {},
   "outputs": [],
   "source": [
    "sim.run_with_plot()"
   ]
  },
  {
   "cell_type": "code",
   "execution_count": null,
   "metadata": {},
   "outputs": [],
   "source": [
    "plt.close('all')"
   ]
  },
  {
   "cell_type": "markdown",
   "metadata": {},
   "source": [
    "Some particles might be really fast, because they started very close to each other. To evaluate the performance of this code, we let it iterate for some time and count how long it took. Let us add some more particles and a third dimension."
   ]
  },
  {
   "cell_type": "code",
   "execution_count": null,
   "metadata": {},
   "outputs": [],
   "source": [
    "np.random.seed(1)\n",
    "positions = (np.random.rand(250, 3) * 20 - 10) * 1e-10\n",
    "# due to the large integrator step of 1000fs, neighbors will be calculated every step\n",
    "sim = State(positions, velocities='boltzmann', dt=1, nststep=5, boundaries=10e-10)\n",
    "\n",
    "def run(State, n_steps, silent=True):\n",
    "    \"\"\"Propagates a State for n_steps\"\"\"\n",
    "    if not silent: print(State.frame, State.positions[0], State.velocities[0])\n",
    "    for i in range(n_steps):\n",
    "        State.update()\n",
    "        if not silent: print(State.frame, State.positions[0], State.velocities[0])"
   ]
  },
  {
   "cell_type": "code",
   "execution_count": null,
   "metadata": {},
   "outputs": [],
   "source": [
    "%time run(sim, 200)"
   ]
  },
  {
   "cell_type": "markdown",
   "metadata": {},
   "source": [
    "For me, it took 5.1 seconds for the run to complete.\n",
    "\n",
    "**Let's port some functions to cython with what we have learned.**\n",
    "\n",
    "I will also use some additional code for using numpy arrays in cython. Here's how I plan to do it.\n",
    "\n",
    "1) Remove all matplotlib functions from the class. As expected, cython doesn't really work with matplotlib.\n",
    "\n",
    "2) Move the calc_pot_force_accel() function to cython\n",
    "\n",
    "3) move the get_neighbors() function to cython.\n",
    "\n",
    "4) Move the State class to cython. This is a WIP. Sorry."
   ]
  },
  {
   "cell_type": "markdown",
   "metadata": {},
   "source": [
    "### Move the force and acceleration calculation to cython\n",
    "\n",
    "Because cython functions are faster, when the return type is already defined (i.e. `cdef long func_name`) we will only return the acceleration from this function. To compare the speeds here's the pythoin implementation."
   ]
  },
  {
   "cell_type": "code",
   "execution_count": null,
   "metadata": {},
   "outputs": [],
   "source": [
    "positions = (np.random.rand(250, 3) * 20 - 10) * 1e-10\n",
    "masses = np.full(positions.shape[0], 40 * Parameters.m) # 40 amu is the mass of argon\n",
    "lj = LJ()"
   ]
  },
  {
   "cell_type": "code",
   "execution_count": null,
   "metadata": {},
   "outputs": [],
   "source": [
    "%timeit f, a, p = State.calc_pot_force_accel(positions, masses, lj.potential, lj.lj_force, nstlist=False)"
   ]
  },
  {
   "cell_type": "markdown",
   "metadata": {},
   "source": [
    "574 ms for me. Here's the cython implementation. It starts with the static declaration of the constants and two C functions calculating potential and force. "
   ]
  },
  {
   "cell_type": "code",
   "execution_count": null,
   "metadata": {},
   "outputs": [],
   "source": [
    "%%cython\n",
    "import numpy as np\n",
    "cimport numpy as np\n",
    "\n",
    "cdef:\n",
    "    double kb = 1.380e-23\n",
    "    double epsilon = kb * 120\n",
    "    double sigma = 3.4e-10\n",
    "\n",
    "# write a nice fast C function for force calucaltion\n",
    "cdef double force_calc(double dist):\n",
    "    cdef double force\n",
    "    force = 24 * epsilon / dist * ((2*(sigma / dist)**12) - (sigma / dist)**7)\n",
    "    return force\n",
    "# write a nice fast C function for potential calculation\n",
    "cdef double pot_calc(double dist):\n",
    "    cdef double pot\n",
    "    pot = 4 * epsilon * ((sigma/dist)**12 - (sigma/dist)**6)\n",
    "    return pot\n",
    "\n",
    "cpdef np.ndarray[double, ndim=2] calc_accel_cy(np.ndarray[double, ndim=2] positions,\n",
    "                                                     np.ndarray[double, ndim=1] masses,\n",
    "                                                     list nstlist = [0]):\n",
    "    cdef:\n",
    "        int n_particles = len(positions)   \n",
    "        int ndim = len(positions[0])\n",
    "        np.ndarray[double, ndim=1] force\n",
    "        np.ndarray[double, ndim=1] pot\n",
    "        np.ndarray[double, ndim=2] accelerations = np.zeros((n_particles, ndim))\n",
    "        np.ndarray[double, ndim=1] r\n",
    "        double dist\n",
    "        int k\n",
    "        int max_iter = len(nstlist)\n",
    "        int i, j\n",
    "    if any(nstlist):\n",
    "        for k in range(max_iter):\n",
    "            i, j = nstlist[k][:2]\n",
    "            dist = nstlist[k][2]\n",
    "            r = np.array(nstlist[k][3:])\n",
    "            force = r * force_calc(dist)\n",
    "            accelerations[i] += force / masses[i]\n",
    "            accelerations[j] -= force / masses[j]\n",
    "    else:\n",
    "        for i in range(n_particles):\n",
    "            for j in range(n_particles):\n",
    "                if i >= j:\n",
    "                    continue\n",
    "                r = positions[i] - positions[j]\n",
    "                dist = np.linalg.norm(r)\n",
    "                force = r * force_calc(dist)\n",
    "                accelerations[i] += force / masses[i]\n",
    "                accelerations[j] -= force / masses[j]\n",
    "    return accelerations"
   ]
  },
  {
   "cell_type": "code",
   "execution_count": null,
   "metadata": {},
   "outputs": [],
   "source": [
    "positions = (np.random.rand(250, 3) * 20 - 10) * 1e-10\n",
    "masses = np.full(positions.shape[0], 40 * Parameters.m) # 40 amu is the mass of argon"
   ]
  },
  {
   "cell_type": "code",
   "execution_count": null,
   "metadata": {},
   "outputs": [],
   "source": [
    "%timeit acc = calc_accel_cy(positions, masses)"
   ]
  },
  {
   "cell_type": "markdown",
   "metadata": {},
   "source": [
    "313 ms for me. Let's continue with the neighborlist function.\n",
    "\n",
    "### Move the neighborlist calculation to cython"
   ]
  },
  {
   "cell_type": "code",
   "execution_count": null,
   "metadata": {},
   "outputs": [],
   "source": [
    "%%cython\n",
    "import numpy as np\n",
    "cimport numpy as np\n",
    "\n",
    "cpdef list find_neighbors_cy(np.ndarray[double, ndim=2] positions, double cutoff):\n",
    "    cdef:\n",
    "        int n_particles = len(positions)   \n",
    "        int ndim = len(positions[0])\n",
    "        list nstlist = []\n",
    "        \n",
    "    for i in range(n_particles):\n",
    "        for j in range(n_particles):\n",
    "            if i >= j:\n",
    "                continue\n",
    "            r = positions[i] - positions[j]\n",
    "            dist = np.linalg.norm(r)\n",
    "            if dist <= cutoff:\n",
    "                if i == 0 and i == 1:\n",
    "                    nstlist.append([i, j, dist, *r])\n",
    "    return nstlist"
   ]
  },
  {
   "cell_type": "code",
   "execution_count": null,
   "metadata": {},
   "outputs": [],
   "source": [
    "positions = (np.random.rand(250, 3) * 20 - 10) * 1e-10\n",
    "nstlist = find_neighbors_cy(positions, 7.14e-10)"
   ]
  },
  {
   "cell_type": "markdown",
   "metadata": {},
   "source": [
    "### WIP Moving the State class to cython.\n",
    "\n",
    "We can also statically declare classes. Here's how to do ti."
   ]
  },
  {
   "cell_type": "code",
   "execution_count": null,
   "metadata": {},
   "outputs": [],
   "source": [
    "%%cython\n",
    "import numpy as np\n",
    "cimport numpy as np\n",
    "\n",
    "cdef:\n",
    "    double kb = 1.380e-23 # Boltzmann (J/K)\n",
    "    double Nav = 6.022e23 # Avogadro (/mol)\n",
    "    double Mamu = (39.95/Nav)*(10**-3) # atomic mass unit (kg)\n",
    "    double epsilon = kb * 120\n",
    "    double sigma = 3.4e-10\n",
    "    \n",
    "# write a nice fast C function for force calucaltion\n",
    "cdef double force_calc(double dist):\n",
    "    cdef double force\n",
    "    force = 24 * epsilon / dist * ((2*(sigma / dist)**12) - (sigma / dist)**7)\n",
    "    return force\n",
    "# write a nice fast C function for potential calculation\n",
    "cdef double pot_calc(double dist):\n",
    "    cdef double pot\n",
    "    pot = 4 * epsilon * ((sigma/dist)**12 - (sigma/dist)**6)\n",
    "    return pot\n",
    "\n",
    "cpdef np.ndarray[double, ndim=2] calc_accel_cy(np.ndarray[double, ndim=2] positions,\n",
    "                                                     np.ndarray[double, ndim=1] masses,\n",
    "                                                     list nstlist = [0]):\n",
    "    cdef:\n",
    "        int n_particles = len(positions)   \n",
    "        int ndim = len(positions[0])\n",
    "        np.ndarray[double, ndim=1] force\n",
    "        np.ndarray[double, ndim=1] pot\n",
    "        np.ndarray[double, ndim=2] accelerations = np.zeros((n_particles, ndim))\n",
    "        np.ndarray[double, ndim=1] r\n",
    "        double dist\n",
    "        int k\n",
    "        int max_iter = len(nstlist)\n",
    "        int i, j\n",
    "    if any(nstlist):\n",
    "        for k in range(max_iter):\n",
    "            i, j = nstlist[k][:2]\n",
    "            dist = nstlist[k][2]\n",
    "            r = np.array(nstlist[k][3:])\n",
    "            force = r * force_calc(dist)\n",
    "            accelerations[i] += force / masses[i]\n",
    "            accelerations[j] -= force / masses[j]\n",
    "    else:\n",
    "        for i in range(n_particles):\n",
    "            for j in range(n_particles):\n",
    "                if i >= j:\n",
    "                    continue\n",
    "                r = positions[i] - positions[j]\n",
    "                dist = np.linalg.norm(r)\n",
    "                force = r * force_calc(dist)\n",
    "                accelerations[i] += force / masses[i]\n",
    "                accelerations[j] -= force / masses[j]\n",
    "    return accelerations\n",
    "\n",
    "cpdef list find_neighbors_cy(np.ndarray[double, ndim=2] positions, double cutoff):\n",
    "    cdef:\n",
    "        int n_particles = len(positions)   \n",
    "        int ndim = len(positions[0])\n",
    "        list nstlist = []\n",
    "        \n",
    "    for i in range(n_particles):\n",
    "        for j in range(n_particles):\n",
    "            if i >= j:\n",
    "                continue\n",
    "            r = positions[i] - positions[j]\n",
    "            dist = np.linalg.norm(r)\n",
    "            if dist <= cutoff:\n",
    "                if i == 0 and i == 1:\n",
    "                    nstlist.append([i, j, dist, *r])\n",
    "    return nstlist\n",
    "\n",
    "class State_cy:\n",
    "    \"\"\"The current state of a simple LJ simulation.\n",
    "    \n",
    "    This is a python-implementation using numpy. It also contains a plotting tool\n",
    "    which allows visualization of 2D simulations. The numpy-optimized cython version\n",
    "    follows soon. The code ist not very optimized, especially force calculations. This\n",
    "    can greatly be accleerated by C for loops. Furthermore the LJ and Box classes\n",
    "    could also be implemented in this class. I specificially expunged them from this class\n",
    "    to also demonstrate 'cython libraries', where pieces of cython code access other cython\n",
    "    code from different files.\n",
    "    \n",
    "    Todo:\n",
    "        * Write a Maxwell-Boltzmann distribution. It is basically a chi\n",
    "            distribution with specific parameters. See this link for more info:\n",
    "            https://docs.scipy.org/doc/scipy-0.14.0/reference/generated/scipy.stats.boltzmann.html\n",
    "            \n",
    "    Attributes:\n",
    "        n_particles (int): The number of particles in the system.\n",
    "        dim (int): The dimension of your system. Only 2 and 3 makes sense, really.\n",
    "        dt (float): The timestep in femtoseconds (fs).\n",
    "        frame (int): At what frame the state is currently.\n",
    "        time (float): The time the state is currently. time == dt * frame\n",
    "        nstlist (int): If frame % nstlist == 0, the neighbor-list will be updated.\n",
    "        cutoff (float): The cutoff for neighbor-searching. Defaults to 2 * sigma, 7.14e-10.\n",
    "        neighbor_list (list): List containing [i, j, dist] lists, which give the indices and\n",
    "            the distance of neighbors.\n",
    "        temp (float): The current temperature of the system.\n",
    "        masses (np.ndarray): The masses of the atoms. Most often an array of 40 amu for Argon.\n",
    "        positions (np.ndarray): The positions of your atoms. positions.shape == (n_particles, dim)\n",
    "        velocities (np.ndarray): The velocities.\n",
    "        accelerations (np.array): The accelerations.\n",
    "        momenta (np.array): The momenta of the particles.\n",
    "        forces (np.ndarray): The forces of the system. This array has a special formatting.\n",
    "            forces[:,0] is the index of the first atom, forces[:,1] is the index of the\n",
    "            second atom. forces[:,2:] are the directional components of this force (based on\n",
    "            how many dimensions the state has).\n",
    "        potentials (np.ndarray): The potentials of the system. This array has a special formatting.\n",
    "            potentials[:,0] is the index of the first atom, potentials[:,1] is the index of the\n",
    "            second atom. potentials[:,2:] are the directional components of this potential (based on\n",
    "            how many dimensions the state has).\n",
    "        self.pot_energy (float): The current potential energy.\n",
    "        self.kin_energy (float): The current kinetic energy.\n",
    "        self.tot_energy (float): The current total energy.\n",
    "        \n",
    "    \"\"\"\n",
    "    def __init__(self, positions, velocities='random', masses=None, nststep=5, dt=0.02,\n",
    "                 temp=273, cutoff=7.14e-10, boundaries=100e-10):\n",
    "        \"\"\"Initializes the State class and prepares the initial state of the sim.\n",
    "        \n",
    "        Args:\n",
    "            positions (np.ndarray): The positions of your atoms. 2D or 3D or even more.\n",
    "            \n",
    "        Keyworded Args:\n",
    "            velocities (np.ndarray/str): The initial velocities of your atoms. Can be\n",
    "                a numpy array of velocities. Can be 'random', or 'boltzmann', depending\n",
    "                on how you would like to generate starting velocities. Defaults to\n",
    "                'random'.\n",
    "            masses (np.ndarray): The masses of your atoms. If not provided all\n",
    "                atoms will be set to have the mass of Argon. Defaults to None.\n",
    "            nststep (int): How often the neighbor list will be updated. Defaults to 5.\n",
    "            dt (int): The integrator step in fs. Defaults to 0.02.\n",
    "            temp (float): The goal temperature in Kelvin. Defaults to 273.\n",
    "            cutoff (float): The cutoff for neighbor-searching. Defaults to 2 * sigma, 7.14e-10.\n",
    "            bondaries (float): The max/min value of the simulation box in m.\n",
    "                The box is centered on the coordinate origin. Defaults to 100e-10.\n",
    "            \n",
    "        Raises:\n",
    "            AssertionError: If the provided arrays are misaligned.\n",
    "        \n",
    "        \"\"\"\n",
    "        # get some initial info\n",
    "        self.positions = positions\n",
    "        self.n_particles, self.dim = self.positions.shape\n",
    "        self.dt = dt\n",
    "        self.temp = temp\n",
    "        self.nststep = nststep\n",
    "        self.cutoff = cutoff\n",
    "        self.boundaries = boundaries\n",
    "        # masses and velocities check and set\n",
    "        if not np.any(masses):\n",
    "            self.masses = np.full(self.n_particles, 40 * Mamu) # 40 amu is the mass of argon\n",
    "        self.velocities = velocities\n",
    "        self.momenta = np.multiply(self.masses[:, np.newaxis], self.velocities)\n",
    "\n",
    "        # initial state descriptors\n",
    "        self.time = 0\n",
    "        self.frame = 0\n",
    "        self.dt = dt * 1e-15\n",
    "        \n",
    "        # initial force, energy, temperature and neighbors calculation\n",
    "        self.accelerations = calc_accel_cy(self.positions, self.masses)\n",
    "        self._calc_energy_and_temp()\n",
    "        \n",
    "        # check whether positions and velocities are correcly shaped\n",
    "        assert self.positions.shape == self.velocities.shape\n",
    "        \n",
    "        # the propagation is handled by a generator found in self._propagate()\n",
    "        self.traj = self._propagate()\n",
    "        \n",
    "    @property\n",
    "    def velocities(self):\n",
    "        return self.__velocities\n",
    "    \n",
    "    @velocities.setter\n",
    "    def velocities(self, velocities):\n",
    "        if velocities == 'random':\n",
    "            self.__velocities = (np.random.rand(self.n_particles, self.dim) * 20 - 10) * 5\n",
    "        elif velocities == 'boltzmann':\n",
    "            raise Exception(\"Maxwell Boltzmann not supported in cython, because I don't want to include scipy.\")\n",
    "        elif isinstance(velocities, np.ndarray):\n",
    "            self.__velocities = velocities\n",
    "        else:\n",
    "            raise Exception(\"Argument velocitites takes np.ndarray, 'random' or 'boltzmann', \"\n",
    "                          f\"You provided {velocities}\")\n",
    "            \n",
    "    @staticmethod\n",
    "    def pbc(pos, boundaries):\n",
    "        for d in range(pos.shape[1]):\n",
    "            upper_bound = boundaries\n",
    "            lower_bound = - boundaries\n",
    "            tmp_pos = pos[:, d] - upper_bound\n",
    "            upper_atoms = np.where(tmp_pos > 0)\n",
    "            pos[upper_atoms, d] -= (upper_bound-lower_bound)\n",
    "            del tmp_pos, upper_atoms\n",
    "            tmp_pos = lower_bound - pos[:, d]\n",
    "            lower_atoms = np.where(tmp_pos > 0)\n",
    "            pos[lower_atoms, d] += (upper_bound-lower_bound)\n",
    "            del tmp_pos, lower_atoms\n",
    "            del upper_bound, lower_bound\n",
    "        return pos \n",
    "        \n",
    "    def _propagate(self):\n",
    "        \"\"\"Uses generator to propagate the state.\"\"\"\n",
    "        pos = self.positions\n",
    "        velocities = self.velocities\n",
    "        accelerations = self.accelerations\n",
    "        t = self.time\n",
    "        f = self.frame\n",
    "        while True:\n",
    "            pos = self.pbc(pos + self.velocities * self.dt + 0.5 * self.accelerations * self.dt ** 2, self.boundaries)\n",
    "            velocities = accelerations * self.dt\n",
    "            accelerations = calc_accel_cy(pos, self.masses, nstlist=self.neighbor_list)\n",
    "            t += self.dt\n",
    "            f += 1\n",
    "            yield pos, velocities, accelerations, t, f\n",
    "    \n",
    "    def _calc_energy_and_temp(self):\n",
    "        \"\"\"Calcs current energty and temp.\"\"\"\n",
    "        self.kin_energy = (0.5 * self.masses * np.linalg.norm(self.velocities, axis=1) ** 2).sum()\n",
    "        self.temp = self.kin_energy * 2 / (kb * (self.dim * self.n_particles - self.dim))\n",
    "            \n",
    "    def update(self):\n",
    "        \"\"\"Calls next item from the _propagate generator.\"\"\"\n",
    "        if self.frame % self.nststep == 0:\n",
    "            self.neighbor_list = find_neighbors_cy(self.positions, self.cutoff)\n",
    "            (self.positions,\n",
    "             self.velocities,\n",
    "             self.accelerations,\n",
    "             self.time,\n",
    "             self.frame) = self.traj\n",
    "        else:\n",
    "            for i in range(len(self.neighbor_list)):\n",
    "                self.neighbor_list[i][2] = 0\n",
    "            (self.positions,\n",
    "             self.velocities,\n",
    "             self.accelerations,\n",
    "             self.time,\n",
    "             self.frame) = self.traj\n",
    "        self._calc_energy_and_temp()\n",
    "        \n",
    "    def print_current_state(self):\n",
    "        \"\"\"Prints a longer string, intended as a log.\"\"\"\n",
    "        s = ''\n",
    "        s += f\"Simulation contains {self.n_particles} particles in {self.dim} dimensions.\\n\"\n",
    "        s += f\"We are at frame {self.frame} at cumulated {self.time} fs.\\n\"\n",
    "        s += f\"Current Kinetic Energy is {self.kin_energy} J, Potential Energy is J, Temperature is {self.temp} K.\\n\"\n",
    "        s += f\"The Box is cubic and expands to {self.boundaries} m.\"\n",
    "        print(s)\n",
    "        \n",
    "    def _build_str(self):\n",
    "        \"\"\"Is calles by the __str__ and __repr__ methods. Prints info about the object.\"\"\"\n",
    "        s = ''\n",
    "        s += f\"Simulation at frame {self.frame} with {self.n_particles} particles\"\n",
    "        return s\n",
    "    \n",
    "    def __str__(self):\n",
    "        return f\"<{self._build_str()}>\"\n",
    "    \n",
    "    def __repr__(self):\n",
    "        return f\"<{self._build_str()} at 0x{id(self):02x}>\""
   ]
  },
  {
   "cell_type": "code",
   "execution_count": null,
   "metadata": {},
   "outputs": [],
   "source": [
    "np.random.seed(1)\n",
    "positions = (np.random.rand(250, 3) * 20 - 10) * 1e-10\n",
    "# due to the large integrator step of 1000fs, neighbors will be calculated every step\n",
    "sim_cy = State_cy(positions, dt=1, nststep=5, boundaries=10e-10)\n",
    "\n",
    "def run(State, n_steps, silent=True):\n",
    "    \"\"\"Propagates a State for n_steps\"\"\"\n",
    "    if not silent: print(State.frame, State.positions[0], State.velocities[0])\n",
    "    for i in range(n_steps):\n",
    "        State.update()\n",
    "        if not silent: print(State.frame, State.positions[0], State.velocities[0])"
   ]
  },
  {
   "cell_type": "markdown",
   "metadata": {},
   "source": [
    "# Python and Cython performance\n",
    "\n",
    "## Why is python slow\n",
    "\n",
    "The main advantage of python is its platform-independence. This independence was realized by including a python virtual machine that handles the task of translating the python bytecode generated from .py files into machine code that can be executed on the CPU of your computer. This versatility makes python slower compared to compiled languages that create platform-specific machine code (gcc does not even create bytcode from the source files and goes straight to machine code).\n",
    "\n",
    "When you call a function from within python that has been declared, translated and compiled in/from a .pyx file, the python VM skips the translation of bytecode to machine code and goes straight to the correct lines of machine code from the compiled file. The translation of python code into C code is handled by the cython module. This gives us a speedup for free. All we have to do is rename the file into .pyx and do the compilation steps.\n",
    "\n",
    "## Dynamic and static typing\n",
    "\n",
    "However, the speedup can be greatly improved with **static typing**. Python is a dynamically typed language. This allows us to do fun stuff like adding integers to floats:\n",
    "\n",
    "```python\n",
    ">>> print(1 + 2.1)\n",
    "3.1\n",
    "```\n",
    "\n",
    "Lower level programming languages (like C) are statically typed. Every variable needs to be declared with its datatype. The speedup when using static typing comes from the compilers optimizing the machine code for that specific datatype. A simple operation like `a + b` can become quite some time intensive. The interpreter asks for the datatype of a and b, the implementation of addition for the given datatypes, and calls this function. Inside the addition function the types of the variables might be casted to different types.\n",
    "\n",
    "We can achieve a speedup in our python code by simply typing variables statically. For this we use the `cdef` keyword followed by the variable type and name:\n",
    "\n",
    "```cython\n",
    "cdef int i\n",
    "```\n",
    "\n",
    "The difference becomes apparent with the following snippet:"
   ]
  },
  {
   "cell_type": "code",
   "execution_count": null,
   "metadata": {},
   "outputs": [],
   "source": [
    "a = [x+1 for x in range(12)]\n",
    "b = a\n",
    "print(a[3], b[3])\n",
    "a[3] = 42.0\n",
    "print(a[3], b[3])\n",
    "a = 13\n",
    "print(a, b[3])"
   ]
  },
  {
   "cell_type": "markdown",
   "metadata": {},
   "source": [
    "The same command `b = a` in cython would *copy* the data and yield a result akin to this:\n",
    "\n",
    "```cython\n",
    ">>> a = [x+1 for x in range(12)]\n",
    ">>> b = a\n",
    ">>> a[3] = 42.0\n",
    ">>> print(a[3], b[3])\n",
    "4 42.0\n",
    "```\n",
    "\n",
    "Static defined ctypes in cython follow C coercion and casting rules.\n",
    "\n",
    "```C\n",
    "double x, y;\n",
    "x = 3;            // implicitly conversion (coercion)\n",
    "y = (double) 5;   // explicitly conversion (casting)\n",
    "```\n",
    "\n",
    "Static variables in cython can be declared in many ways:\n",
    "\n",
    "```cython\n",
    "def a_func():\n",
    "    cdef int i=0, j, k\n",
    "    cdef float price=20.0, margin\n",
    "    \n",
    "def another_func():\n",
    "    cdef:\n",
    "        int i\n",
    "        int N=2000\n",
    "```\n",
    "\n",
    "To compare the speed of dynamically and statically typed variables we need to turn off cython's own type inference, which normally assumes good types for variables. We can do this with the @cython function decorator. All variables in this function are henceforth handled as python objects."
   ]
  },
  {
   "cell_type": "code",
   "execution_count": null,
   "metadata": {},
   "outputs": [],
   "source": [
    "def integrate(a, b, f):\n",
    "    N = 2000\n",
    "    s = 0\n",
    "    dx = (b-a)/N\n",
    "    for i in range(N):\n",
    "        s += f(a + i*dx)\n",
    "    return s * dx"
   ]
  },
  {
   "cell_type": "code",
   "execution_count": null,
   "metadata": {},
   "outputs": [],
   "source": [
    "%%timeit\n",
    "f = lambda x: x + 5 # expected integral from 0 to 1 is 0.5 + 5 = 5.5\n",
    "integral = integrate(0, 1, f)\n",
    "f = lambda x: 5 + .5*x - 5*x**2 + 17*x**3 - .332*x**4 + 200*x**5 - 1000*x**6 + 0.00001*x**7# get a random polynomial\n",
    "integral = integrate(0, 1, f)"
   ]
  },
  {
   "cell_type": "code",
   "execution_count": null,
   "metadata": {},
   "outputs": [],
   "source": [
    "%%writefile dynamic_typed.pyx\n",
    "cimport cython\n",
    "\n",
    "@cython.infer_types(False)\n",
    "def integrate(a, b, f):\n",
    "    N = 2000\n",
    "    s = 0\n",
    "    dx = (b-a)/N\n",
    "    for i in range(N):\n",
    "        s += f(a + i*dx)\n",
    "    return s * dx"
   ]
  },
  {
   "cell_type": "code",
   "execution_count": null,
   "metadata": {},
   "outputs": [],
   "source": [
    "import dynamic_typed"
   ]
  },
  {
   "cell_type": "code",
   "execution_count": null,
   "metadata": {},
   "outputs": [],
   "source": [
    "%%timeit\n",
    "f = lambda x: x + 5 # expected integral from 0 to 1 is 0.5 + 5 = 5.5\n",
    "integral = dynamic_typed.integrate(0, 1, f)\n",
    "f = lambda x: 5 + .5*x - 5*x**2 + 17*x**3 - .332*x**4 + 200*x**5 - 1000*x**6 + 0.00001*x**7# get a random polynomial\n",
    "integral = dynamic_typed.integrate(0, 1, f)\n",
    "# print(integral)"
   ]
  },
  {
   "cell_type": "code",
   "execution_count": null,
   "metadata": {},
   "outputs": [],
   "source": [
    "%%writefile static_typed.pyx\n",
    "def integrate(a, b, f):\n",
    "    cdef int i\n",
    "    cdef int N=2000\n",
    "    cdef float dx, s=0.0\n",
    "    dx = (b-a)/N\n",
    "    for i in range(N):\n",
    "        s += f(a + i*dx)\n",
    "    return s * dx"
   ]
  },
  {
   "cell_type": "code",
   "execution_count": null,
   "metadata": {},
   "outputs": [],
   "source": [
    "import static_typed"
   ]
  },
  {
   "cell_type": "code",
   "execution_count": null,
   "metadata": {},
   "outputs": [],
   "source": [
    "%%timeit\n",
    "f = lambda x: x + 5 # expected integral from 0 to 1 is 0.5 + 5 = 5.5\n",
    "integral = static_typed.integrate(0, 1, f)\n",
    "f = lambda x: 5 + .5*x - 5*x**2 + 17*x**3 - .332*x**4 + 200*x**5 - 1000*x**6 + 0.00001*x**7# get a random polynomial\n",
    "integral = static_typed.integrate(0, 1, f)\n",
    "# print(integral)"
   ]
  },
  {
   "cell_type": "markdown",
   "metadata": {},
   "source": [
    "## Automatic type inference\n",
    "\n",
    "Cython can guess the types of variables automatically to make your code run faster. This is not always possible. Consider this function:\n",
    "\n",
    "```cython\n",
    "def automatic_inference():\n",
    "    i = 1\n",
    "    d = 2.0\n",
    "    c = 3+4j\n",
    "    r = i * d * c\n",
    "    return r\n",
    "```\n",
    "Here, only the variable d is correctly set to C's double type. The rest are python objects. This slows down our code.\n",
    "\n",
    "**Why are they python objects?**\n",
    "\n",
    "- `i = 1` this could be `bint`, `short`, `int`, `long`. Not sure, so use python object to allow maximum compatibility.\n",
    "- `c = 3+4j` could be `float complex` or `double complex`. Not sure. Use python object.\n",
    "- `r = i * d * c` same here.\n",
    "\n",
    "**Better type inference**\n",
    "\n",
    "We can allow cython more leeway in deciding types with the same `@cython.infer_types` decorator.\n",
    "\n",
    "```cython\n",
    "cimport cython\n",
    "\n",
    "@cython.infer_types(True)\n",
    "def more_inference():\n",
    "    i = 1\n",
    "    d = 2.0\n",
    "    c = 3+4j\n",
    "    r = i * d + c\n",
    "    return r\n",
    "```\n",
    "\n",
    "Now `i` is set to `long`, `d` is set to `double` and `c` and `r` are considered `double complex`. When infer_types is set to true, we have to make sure that our integers don't overflow. So make sure `i` never goes over 9223372036854775807, or you will end up with -9223372036854775808."
   ]
  },
  {
   "cell_type": "markdown",
   "metadata": {},
   "source": [
    "## Static type reference of python types\n",
    "\n",
    "The built-in python types can also be statically defined. Here they are:\n",
    "\n",
    "- `cdef list`\n",
    "- `cdef dict`\n",
    "- `cdef str`\n",
    "- `cdef set`\n",
    "\n",
    "Under the hood, cython makes these objects to C pointer to the binary data of a python `struct`. They can be used like ordinary python variables but stay constrained to their respective type."
   ]
  },
  {
   "cell_type": "code",
   "execution_count": null,
   "metadata": {},
   "outputs": [],
   "source": [
    "import struct\n",
    "import binascii\n",
    "\n",
    "values = (1, 'This is a string'.encode('utf-8'), 2.723)\n",
    "s = struct.Struct('I 22s f') # len of str is 16 22s adds some \\x00 ASCII NULLs\n",
    "packed_data = s.pack(*values)\n",
    "print(packed_data)"
   ]
  },
  {
   "cell_type": "markdown",
   "metadata": {},
   "source": [
    "## Types of cython functions\n",
    "\n",
    "Much of static and dynamic variables also applies to functions. C and python functions are pretty similar. Tehy have names, take zero or a number of arguments, and return new values. However, python functions are objects. They:\n",
    "\n",
    "- have states\n",
    "- can be created at import time or at runtime\n",
    "- can be created anonymously (lambda)\n",
    "- be returned from other functions\n",
    "- passed as argument to other functions\n",
    "- called with positional and keyworded arguments\n",
    "- defined with default values\n",
    "\n",
    "C functions have less overhead. They:\n",
    "\n",
    "- can be passed as arguments to other C functions\n",
    "- cannot be defined inside other functions\n",
    "- their names are not modifiable\n",
    "- take arguments only by position\n",
    "- can't have default values\n",
    "\n",
    "This results in python functions being orders of magnitude slower than C functions.\n",
    "\n",
    "**First let's look at a pure python function**"
   ]
  },
  {
   "cell_type": "code",
   "execution_count": 9,
   "metadata": {
    "scrolled": true
   },
   "outputs": [
    {
     "name": "stdout",
     "output_type": "stream",
     "text": [
      "2.75 µs ± 31.1 ns per loop (mean ± std. dev. of 7 runs, 100000 loops each)\n"
     ]
    }
   ],
   "source": [
    "def fact(n):\n",
    "    \"\"\"Computes factorial.\"\"\"\n",
    "    if n <= 1:\n",
    "        return 1\n",
    "    return n * fact(n - 1)\n",
    "%timeit fact(20)"
   ]
  },
  {
   "cell_type": "markdown",
   "metadata": {},
   "source": [
    "### Def\n",
    "\n",
    "**By just prepending the %%cython cell magic we can speed this function up significantly**"
   ]
  },
  {
   "cell_type": "code",
   "execution_count": null,
   "metadata": {},
   "outputs": [],
   "source": [
    "%load_ext cython"
   ]
  },
  {
   "cell_type": "code",
   "execution_count": null,
   "metadata": {},
   "outputs": [],
   "source": [
    "%%cython\n",
    "def fact_cy(n):\n",
    "    \"\"\"Also computes factorial.\"\"\"\n",
    "    if n <= 1:\n",
    "        return 1\n",
    "    return n * fact_cy(n - 1)"
   ]
  },
  {
   "cell_type": "code",
   "execution_count": null,
   "metadata": {},
   "outputs": [],
   "source": [
    "%timeit fact_cy(20)"
   ]
  },
  {
   "cell_type": "markdown",
   "metadata": {},
   "source": [
    "### cdef\n",
    "\n",
    "**Let's make it even faster by telling cython: Don't use dynamic python functions, use C integers and change the recursive function to a loop**\n",
    "\n",
    "We need to wrap the c_fact() function with a small python function (wrap_c_fact()) which calls it. "
   ]
  },
  {
   "cell_type": "code",
   "execution_count": null,
   "metadata": {},
   "outputs": [],
   "source": [
    "%%cython\n",
    "cdef long c_fact(long n):\n",
    "    \"\"\"Computes factorial very fast.\"\"\"\n",
    "    if n <= 1:\n",
    "        return 1\n",
    "    return n * c_fact(n - 1)\n",
    "\n",
    "def wrap_c_fact(n):\n",
    "    return c_fact(n)"
   ]
  },
  {
   "cell_type": "code",
   "execution_count": null,
   "metadata": {},
   "outputs": [],
   "source": [
    "%timeit wrap_c_fact(20)"
   ]
  },
  {
   "cell_type": "markdown",
   "metadata": {},
   "source": [
    "**Some drawbacks:**\n",
    "\n",
    "cdef functions are restricted to C types and thus would give erroneous results for c_fact(21) because of integer overflow.\n",
    "\n",
    "### cpdef\n",
    "\n",
    "cpdef functions combine the accessibility of def functions with the performance of cdef functions.\n",
    "With the `inline` keyword we can tell the compiler to replace the function with its body, whenever it is called, thus removing the last bit of overhead which arises from multiple function calls. That's basically how fast it gets."
   ]
  },
  {
   "cell_type": "code",
   "execution_count": null,
   "metadata": {},
   "outputs": [],
   "source": [
    "%%cython\n",
    "cpdef inline long cp_fract(long n):\n",
    "    if n <= 1:\n",
    "        return 1\n",
    "    return n * cp_fract(n - 1)"
   ]
  },
  {
   "cell_type": "code",
   "execution_count": null,
   "metadata": {},
   "outputs": [],
   "source": [
    "%timeit cp_fract(20)"
   ]
  },
  {
   "cell_type": "markdown",
   "metadata": {},
   "source": [
    "## Faster for loops\n",
    "\n",
    "Looping is very essential to programming. Here, cython needs some type info to accelerate your loops, also. Instead of writing:\n",
    "\n",
    "```python\n",
    "n = 100\n",
    "for i in range(n):\n",
    "    # ...\n",
    "```\n",
    "You can help cython to generate faster C loops by statically defining the variables. Here are some guidelines for fast loops:\n",
    "\n",
    "When looping over a range() call give a C integer:\n",
    "```cython\n",
    "cdef int N\n",
    "for i in range(N):\n",
    "    # ...\n",
    "```\n",
    "This can only be used efficiently **if i is not used in the loop body**. If i is used in the loop body, you also need to declare it. But make sure, it does not overflow.\n",
    "\n",
    "```cython\n",
    "cdef int i, N\n",
    "for i in range(N):\n",
    "    data[i] = data[i] * 2\n",
    "```\n",
    "When looping over containers (`list`, `tuple`, `dict`,..) it is often advised to not do python-type looping, but use indexing:\n",
    "\n",
    "This is slow:\n",
    "\n",
    "```python\n",
    "for i, a in enumerate(array[1:-1]):\n",
    "    i += 1\n",
    "    a[i] = (a[i - 1] + a[i] + a[i + 1]) / 3\n",
    "```\n",
    "This is fast:\n",
    "\n",
    "```cython\n",
    "cdef unsigned int i, n = len(a) - 1 # ignore the last element\n",
    "for i in range(1, n): # ignore the 0th element\n",
    "    a[i] = (a[i -1] + a[i] + a[i + 1]) / 3.0\n",
    "```"
   ]
  },
  {
   "cell_type": "markdown",
   "metadata": {},
   "source": [
    "## Compile time statements and declarations\n",
    "\n",
    "You can use `DEF` declarations and `IF-ELIF-ELSE` statements to define recurring magic numbers or do conditional compilation:\n",
    "\n",
    "```cython\n",
    "DEF PI = 3.1416\n",
    "DEF E = 2.7183\n",
    "\n",
    "IF UNAME_SYSNAME == \"Windows\":\n",
    "    # Run windows code\n",
    "ELIF UNAME_SYSNAME == \"Darwin\":\n",
    "    # Run Mac code\n",
    "ELIF UNAME_SYSNAME == \"Linux\":\n",
    "    # Run Linux code\n",
    "ELSE:\n",
    "    # Make me a spam sandwich\n",
    "    \n",
    "def some_func():\n",
    "    return E ** PI\n",
    "```"
   ]
  },
  {
   "cell_type": "markdown",
   "metadata": {},
   "source": [
    "# Primes: Your turn\n",
    "\n",
    "We want to use cython to compute prime numbers."
   ]
  },
  {
   "cell_type": "code",
   "execution_count": null,
   "metadata": {},
   "outputs": [],
   "source": [
    "def primes_py(nb_primes):\n",
    "    p = []\n",
    "    n = 2\n",
    "    while len(p) < nb_primes:\n",
    "        # Is n prime?\n",
    "        for i in p:\n",
    "            if n % i == 0:\n",
    "                break\n",
    "\n",
    "        # If no break occurred in the loop\n",
    "        else:\n",
    "            p.append(n)\n",
    "        n += 1\n",
    "    return p"
   ]
  },
  {
   "cell_type": "code",
   "execution_count": null,
   "metadata": {},
   "outputs": [],
   "source": [
    "%timeit primes_py(1000)"
   ]
  },
  {
   "cell_type": "markdown",
   "metadata": {},
   "source": [
    "20.3 ms for me. **Now it's your turn to play around with cython and define static types. I'll start**"
   ]
  },
  {
   "cell_type": "code",
   "execution_count": null,
   "metadata": {},
   "outputs": [],
   "source": [
    "%%cython\n",
    "def primes_cy(int nb_primes):\n",
    "    cdef int n = 2, i, len_p\n",
    "    cdef list p\n",
    "    # while loop which compare length of p with nb_primes\n",
    "    # for loop with i as loop variable\n",
    "    # modulo to check for rest by division\n",
    "    # if modulo == 0 break\n",
    "    # else of for loop to do something when for-loop is finished\n",
    "    # append to list\n",
    "    # n += 1\n",
    "    print(nb_primes)"
   ]
  },
  {
   "cell_type": "markdown",
   "metadata": {},
   "source": [
    "### Solution\n",
    "\n",
    "Here's the solution of the cython development team. They managed to get down to 1.65 ms. They used the C-array `p[1000]` with lenth 1000, which is faster than the static declared python type list. C-arrays are limited in space and so their code only computes primes up to 1000."
   ]
  },
  {
   "cell_type": "code",
   "execution_count": null,
   "metadata": {},
   "outputs": [],
   "source": [
    "%%cython\n",
    "def primes_cy_sol(int nb_primes):\n",
    "    cdef int n, i, len_p\n",
    "    cdef int p[1000]\n",
    "    if nb_primes > 1000:\n",
    "        nb_primes = 1000\n",
    "\n",
    "    len_p = 0  # The current number of elements in p.\n",
    "    n = 2\n",
    "    while len_p < nb_primes:\n",
    "        # Is n prime?\n",
    "        for i in p[:len_p]:\n",
    "            if n % i == 0:\n",
    "                break\n",
    "\n",
    "        # If no break occurred in the loop, we have a prime.\n",
    "        else:\n",
    "            p[len_p] = n\n",
    "            len_p += 1\n",
    "        n += 1\n",
    "\n",
    "    # Let's return the result in a python list:\n",
    "    result_as_list  = [prime for prime in p[:len_p]]\n",
    "    return result_as_list"
   ]
  },
  {
   "cell_type": "code",
   "execution_count": null,
   "metadata": {},
   "outputs": [],
   "source": [
    "%timeit primes_cy_sol(1000)"
   ]
  },
  {
   "cell_type": "code",
   "execution_count": null,
   "metadata": {},
   "outputs": [],
   "source": [
    "%timeit spectral_norm_cy(5)"
   ]
  },
  {
   "cell_type": "markdown",
   "metadata": {},
   "source": [
    "# cython and further C dependencies\n",
    "\n",
    "Admittedly, the following chapters are really boring. Continue at your own risk.\n",
    "\n",
    "The great advantage of pyximport is that it not only checks, whether the source .pyx file has been changed but also if any dependencies within that source file have been changed (regardless of any changes to the .pyx file). These dependencies are tracked in a file with the .pyxdeps extension and the same name as the base .pyx file. The file definitions in this file can also be glob patterns.\n",
    "\n",
    "Here's an example using C:\n",
    "\n",
    "First we define a function in lib/examples.c"
   ]
  },
  {
   "cell_type": "code",
   "execution_count": null,
   "metadata": {},
   "outputs": [],
   "source": [
    "%%writefile lib/examples.c\n",
    "#include <stdio.h>\n",
    "#include <string.h>\n",
    "#include \"examples.h\"\n",
    "\n",
    "double fibby(const int n)\n",
    "{\n",
    "  int i;\n",
    "  double tmp, a=0.0, b=1.0;\n",
    "  for ( i = 0; i < n; i++)\n",
    "  {\n",
    "    tmp = a + b;\n",
    "    b = a;\n",
    "    a = tmp;\n",
    "  }\n",
    "  return a;\n",
    "  // printf(\"Your fibonacci number is: %f\\n\", a);\n",
    "}"
   ]
  },
  {
   "cell_type": "markdown",
   "metadata": {},
   "source": [
    "The packed C library will be compiled from the examples.h header file. In the header file we need to point to the fibby function defined in examples.c"
   ]
  },
  {
   "cell_type": "code",
   "execution_count": null,
   "metadata": {},
   "outputs": [],
   "source": [
    "%%writefile lib/examples.h\n",
    "#ifndef EXAMPLES_H\n",
    "#define EXAMPLES_H\n",
    "\n",
    "double fibby(const int n);\n",
    "\n",
    "#endif"
   ]
  },
  {
   "cell_type": "markdown",
   "metadata": {},
   "source": [
    "**Create the library**\n",
    "\n",
    "Now we create the library by either using the makefile I copied from somewhere and running:\n",
    "\n",
    "```bash\n",
    "$ cd lib/\n",
    "$ make\n",
    "```\n",
    "\n",
    "or by executing this cell:"
   ]
  },
  {
   "cell_type": "code",
   "execution_count": null,
   "metadata": {},
   "outputs": [],
   "source": [
    "%%bash\n",
    "cd lib\n",
    "gcc -c -fPIC examples.c examples.h # compile the source files without making them executable\n",
    "# also, compilation without -c would not work, because no main function is defined in examples.c\n",
    "ar rcs libexamples.a examples.o # make an archive out of the output. This archive can be imported to cython\n",
    "# ls"
   ]
  },
  {
   "cell_type": "markdown",
   "metadata": {},
   "source": [
    "The finished libary is in the libexamples.a file. We need a .pyx file that makes use of our fibby function. Here it is:"
   ]
  },
  {
   "cell_type": "code",
   "execution_count": null,
   "metadata": {},
   "outputs": [],
   "source": [
    "%%writefile pyexamples.pyx\n",
    "cdef extern from \"examples.h\":\n",
    "    double fibby(const int n)\n",
    "\n",
    "def c_wrapped_fib(n: int) -> None:\n",
    "    out = fibby(n)\n",
    "    print(\"Your fibonacci number is: \", out)"
   ]
  },
  {
   "cell_type": "markdown",
   "metadata": {},
   "source": [
    "And we need a setup.py file to make distutils handle the compilation. Because we have an external dependency, we need to declare that in the setup.py file."
   ]
  },
  {
   "cell_type": "code",
   "execution_count": null,
   "metadata": {},
   "outputs": [],
   "source": [
    "%%writefile setup.py\n",
    "from distutils.core import setup\n",
    "from distutils.extension import Extension\n",
    "from Cython.Build import cythonize\n",
    "\n",
    "examples_extension = Extension(\n",
    "    name=\"pyexamples\",\n",
    "    sources=[\"pyexamples.pyx\"],\n",
    "    libraries=[\"examples\"],\n",
    "    library_dirs=[\"lib\"],\n",
    "    include_dirs=[\"lib\"]\n",
    ")\n",
    "setup(\n",
    "    name=\"pyexamples\",\n",
    "    ext_modules=cythonize([examples_extension])\n",
    ")"
   ]
  },
  {
   "cell_type": "markdown",
   "metadata": {},
   "source": [
    "After executing the setup script we can use our fibby function."
   ]
  },
  {
   "cell_type": "code",
   "execution_count": null,
   "metadata": {},
   "outputs": [],
   "source": [
    "!python setup.py build_ext --inplace"
   ]
  },
  {
   "cell_type": "code",
   "execution_count": null,
   "metadata": {},
   "outputs": [],
   "source": [
    "import pyexamples"
   ]
  },
  {
   "cell_type": "code",
   "execution_count": null,
   "metadata": {},
   "outputs": [],
   "source": [
    "pyexamples.c_wrapped_fib(90)"
   ]
  },
  {
   "cell_type": "markdown",
   "metadata": {},
   "source": [
    "## Do the same thing via pyximport\n",
    "\n",
    "Pyximport can also shorten this pretty tedious task. Using pyximport, again, allows us to recompile everything anytime some changes are made to any file. For this we can use the same .pyx file already created called pyexamplex.pyx. However, we need to tell pyximport which files it needs to consider for the compilation process. Here we need to adjust the settings of distutils Extension() function. This function is added to a .pyxbld file which can be used py pyximport to get infos about all the files needed to compile that module. Let's also copy the pyxexamples.pyx file to fib_wrapped_C.pyx to get a clean slate."
   ]
  },
  {
   "cell_type": "code",
   "execution_count": null,
   "metadata": {},
   "outputs": [],
   "source": [
    "!cp pyexamples.pyx fib_wrapped_C.pyx"
   ]
  },
  {
   "cell_type": "code",
   "execution_count": null,
   "metadata": {},
   "outputs": [],
   "source": [
    "import pyximport\n",
    "pyximport.install()"
   ]
  },
  {
   "cell_type": "code",
   "execution_count": null,
   "metadata": {},
   "outputs": [],
   "source": [
    "%%writefile fib_wrapped_C.pyxbld\n",
    "def make_ext(modname, pyxfilename):\n",
    "    from distutils.extension import Extension\n",
    "    return Extension(\n",
    "        name=\"fib_wrapped_C\",\n",
    "        sources=[\"fib_wrapped_C.pyx\", \"lib/examples.c\"],\n",
    "        include_dirs=[\".\", \"lib\"])"
   ]
  },
  {
   "cell_type": "code",
   "execution_count": null,
   "metadata": {},
   "outputs": [],
   "source": [
    "import fib_wrapped_C"
   ]
  },
  {
   "cell_type": "code",
   "execution_count": null,
   "metadata": {},
   "outputs": [],
   "source": [
    "fib_wrapped_C.c_wrapped_fib(90)"
   ]
  },
  {
   "cell_type": "markdown",
   "metadata": {},
   "source": [
    "Let's change something in the examples.c file and see, if it has worked."
   ]
  },
  {
   "cell_type": "code",
   "execution_count": null,
   "metadata": {},
   "outputs": [],
   "source": [
    "%%writefile lib/examples.c\n",
    "#include <stdio.h>\n",
    "#include <string.h>\n",
    "#include \"examples.h\"\n",
    "\n",
    "double fibby(const int n)\n",
    "{\n",
    "  int i;\n",
    "  double tmp, a=0.0, b=1.0;\n",
    "  for ( i = 0; i < n; i++)\n",
    "  {\n",
    "    tmp = a * b; // changed to multiplication to see if pyximport is working\n",
    "    b = a;\n",
    "    a = tmp;\n",
    "  }\n",
    "  return a;\n",
    "  // printf(\"Your fibonacci number is: %f\\n\", a);\n",
    "}"
   ]
  },
  {
   "cell_type": "code",
   "execution_count": null,
   "metadata": {},
   "outputs": [],
   "source": [
    "fib_wrapped_C.c_wrapped_fib(90)"
   ]
  },
  {
   "cell_type": "markdown",
   "metadata": {},
   "source": [
    "I was promised, that pyximport will recognize the changes to the lib/examples.c file. Oh well. Maybe you will have more luck. ¯\\\\_( ツ )_/¯"
   ]
  },
  {
   "cell_type": "markdown",
   "metadata": {},
   "source": [
    "# Cython compiler directives\n",
    "\n",
    "Compiler directives are instruction that influence how cython code is compiled. They have to follow this syntax:\n",
    "\n",
    "- Be at the very start of the file\n",
    "- have a comment char '# '\n",
    "- followed by 'cython:'\n",
    "- multiple directives can be listed with commas\n",
    "\n",
    "Example:\n",
    "\n",
    "```cython\n",
    "# cython nonecheck=True, boundscheck=False\n",
    "\n",
    "cdef here_comes_a_func():\n",
    "    func = lambda x\" f\"hello {x}\"\n",
    "    return func\n",
    "```\n",
    "\n",
    "A full list of compiler directives can be found here:\n",
    "\n",
    "https://cython.readthedocs.io/en/latest/src/userguide/source_files_and_compilation.html#compiler-directives\n",
    "\n",
    "Important directives are:\n",
    "\n",
    "- cdivision (True/False): If set to False, cython will adjust division expressions so that the remainder of division matches python's division. This is because C rounds towards 0 and python rounds towards infinity.\n",
    "  - `>>> -1 % 5\n",
    "     4` in python.\n",
    "  - `-1 % 5\n",
    "     -1` in C and C++.\n",
    "  - cdivision set to true can also lead to unexpected behavior when division by zero occurs. Because C doesn't check beforehand if a division by zero will be performed, anything from crashes to corrupted data can happen.\n",
    "- infer_types (True/False): Default is None and only safe (semantically unchanging variables) inferences are allowed. E.g. Using integers for variables used in arithmetic expressions can lead to overflow. This needs to be specifically requested.\n",
    "- optimize.use_switch (True/False): Whether to translate chained python if-else statements to C switch statements."
   ]
  },
  {
   "cell_type": "markdown",
   "metadata": {},
   "source": [
    "# Cython and NumPy\n",
    "\n",
    "We have seen that cython can iterate over the built-in containers (`list`, `dict`, `tuple`,..) and make this task faster. However, this type of iteration is not fast enough. The problem is that the list is internally converted to a list of PyObjects. This type casting results in more overhead. However, CPUs are very optimized to work on lists/arrays of floats. That's all they're doing, basically. If we wan't to tap into these super fast calculations (like C++s `std::vector`). This is where python buffers come into play. Buffers can be used to expose an object's data in a byte-format. Python buffers is what NumPy uses to make your code run faster. With these buffers NumPy build contiguous arrays of boxed data. Because the dataypes are well defined, the calculations become more bare-bone and with that faster.\n",
    "\n",
    "**NumPy can be used in cython**\n",
    "\n",
    "Cython has support for python buffers and with that, also NumPy arrays. Again, to make cython run faster we need to fix the dtypes of our arrays."
   ]
  },
  {
   "cell_type": "code",
   "execution_count": null,
   "metadata": {},
   "outputs": [],
   "source": [
    "%load_ext Cython"
   ]
  },
  {
   "cell_type": "code",
   "execution_count": null,
   "metadata": {},
   "outputs": [],
   "source": [
    "import numpy as np"
   ]
  },
  {
   "cell_type": "code",
   "execution_count": null,
   "metadata": {},
   "outputs": [],
   "source": [
    "%%cython\n",
    "\n",
    "import numpy as np\n",
    "DTYPE = np.intc\n",
    "\n",
    "cdef int clip(int a, int min_value, int max_value):\n",
    "    return min(max(a, min_value), max_value)\n",
    "\n",
    "def compute(array_1, array_2, int a, int b, int c):\n",
    "\n",
    "    # The \"cdef\" keyword is also used within functions to type variables. It\n",
    "    # can only be used at the top indentation level (there are non-trivial\n",
    "    # problems with allowing them in other places, though we'd love to see\n",
    "    # good and thought out proposals for it).\n",
    "    cdef Py_ssize_t x_max = array_1.shape[0]\n",
    "    cdef Py_ssize_t y_max = array_1.shape[1]\n",
    "\n",
    "    assert array_1.shape == array_2.shape\n",
    "    assert array_1.dtype == DTYPE\n",
    "    assert array_2.dtype == DTYPE\n",
    "\n",
    "    result = np.zeros((x_max, y_max), dtype=DTYPE)\n",
    "\n",
    "    # It is very important to type ALL your variables. You do not get any\n",
    "    # warnings if not, only much slower code (they are implicitly typed as\n",
    "    # Python objects).\n",
    "    # For the \"tmp\" variable, we want to use the same data type as is\n",
    "    # stored in the array, so we use int because it correspond to np.intc.\n",
    "    # NB! An important side-effect of this is that if \"tmp\" overflows its\n",
    "    # datatype size, it will simply wrap around like in C, rather than raise\n",
    "    # an error like in Python.\n",
    "\n",
    "    cdef int tmp\n",
    "\n",
    "    # Py_ssize_t is the proper C type for Python array indices.\n",
    "    cdef Py_ssize_t x, y\n",
    "\n",
    "    for x in range(x_max):\n",
    "        for y in range(y_max):\n",
    "\n",
    "            tmp = clip(array_1[x, y], 2, 10)\n",
    "            tmp = tmp * a + array_2[x, y] * b\n",
    "            result[x, y] = tmp + c\n",
    "\n",
    "    return result"
   ]
  },
  {
   "cell_type": "code",
   "execution_count": null,
   "metadata": {},
   "outputs": [],
   "source": [
    "array_1 = np.random.uniform(0, 1000, size=(3000, 2000)).astype(np.intc)\n",
    "array_2 = np.random.uniform(0, 1000, size=(3000, 2000)).astype(np.intc)\n",
    "a = 4\n",
    "b = 3\n",
    "c = 9"
   ]
  },
  {
   "cell_type": "code",
   "execution_count": null,
   "metadata": {},
   "outputs": [],
   "source": [
    "%%timeit\n",
    "result = compute(array_1, array_2, a, b, c)"
   ]
  },
  {
   "cell_type": "markdown",
   "metadata": {},
   "source": [
    "We can also use the `cpdef` function declaration to squeeze some more performance out of this thing."
   ]
  },
  {
   "cell_type": "code",
   "execution_count": null,
   "metadata": {},
   "outputs": [],
   "source": [
    "%%cython\n",
    "from numpy cimport ndarray\n",
    "import numpy as np\n",
    "DTYPE = np.intc\n",
    "\n",
    "cdef int clip(int a, int min_value, int max_value):\n",
    "    return min(max(a, min_value), max_value)\n",
    "\n",
    "cpdef ndarray compute_cpdef(array_1, array_2, int a, int b, int c):\n",
    "\n",
    "    # The \"cdef\" keyword is also used within functions to type variables. It\n",
    "    # can only be used at the top indentation level (there are non-trivial\n",
    "    # problems with allowing them in other places, though we'd love to see\n",
    "    # good and thought out proposals for it).\n",
    "    cdef Py_ssize_t x_max = array_1.shape[0]\n",
    "    cdef Py_ssize_t y_max = array_1.shape[1]\n",
    "\n",
    "    assert array_1.shape == array_2.shape\n",
    "    assert array_1.dtype == DTYPE\n",
    "    assert array_2.dtype == DTYPE\n",
    "\n",
    "    result = np.zeros((x_max, y_max), dtype=DTYPE)\n",
    "\n",
    "    # It is very important to type ALL your variables. You do not get any\n",
    "    # warnings if not, only much slower code (they are implicitly typed as\n",
    "    # Python objects).\n",
    "    # For the \"tmp\" variable, we want to use the same data type as is\n",
    "    # stored in the array, so we use int because it correspond to np.intc.\n",
    "    # NB! An important side-effect of this is that if \"tmp\" overflows its\n",
    "    # datatype size, it will simply wrap around like in C, rather than raise\n",
    "    # an error like in Python.\n",
    "\n",
    "    cdef int tmp\n",
    "\n",
    "    # Py_ssize_t is the proper C type for Python array indices.\n",
    "    cdef Py_ssize_t x, y\n",
    "\n",
    "    for x in range(x_max):\n",
    "        for y in range(y_max):\n",
    "\n",
    "            tmp = clip(array_1[x, y], 2, 10)\n",
    "            tmp = tmp * a + array_2[x, y] * b\n",
    "            result[x, y] = tmp + c\n",
    "\n",
    "    return result"
   ]
  },
  {
   "cell_type": "code",
   "execution_count": null,
   "metadata": {},
   "outputs": [],
   "source": [
    "%%timeit\n",
    "result = compute_cpdef(array_1, array_2, a, b, c)"
   ]
  },
  {
   "cell_type": "markdown",
   "metadata": {},
   "source": [
    "However, nice NumPy code is often the better option."
   ]
  },
  {
   "cell_type": "code",
   "execution_count": null,
   "metadata": {},
   "outputs": [],
   "source": [
    "def compute_np(array_1, array_2, a, b, c):\n",
    "    return np.clip(array_1, 2, 10) * a + array_2 * b + c"
   ]
  },
  {
   "cell_type": "code",
   "execution_count": null,
   "metadata": {},
   "outputs": [],
   "source": [
    "%%timeit\n",
    "result = compute_np(array_1, array_2, a, b, c)"
   ]
  },
  {
   "cell_type": "markdown",
   "metadata": {},
   "source": [
    "# More compilation methods\n",
    "\n",
    "**Reading and writing files in jupyter**\n",
    "\n",
    "The other compilation methods rely on writing .pxy files to disk. Instead of opening these files your text editor of choice (Hint: There is a correct answer to the question \"What is your favorite text editor\" and emacs is not it.) let us open the .pyx files direclty in this notebook using cell magic.\n",
    "\n",
    "## Distutils and Cythonize\n",
    "\n",
    "`distutils` is a python standard package used for building, packing and distributing python projects. It can compile C source code into an extension module. How neat is that?! It manages all python versions, platforms and architectures. That's pretty neat. Cython's `cythonize()` function produces a .c file and `distutils` compiles it for us. This compilation pipeline requires us to write a short setup script. This compilation pipeline is the most common way to ditribute cython code."
   ]
  },
  {
   "cell_type": "markdown",
   "metadata": {},
   "source": [
    "Let's use the %load magic function to open the file helloworld.pyx"
   ]
  },
  {
   "cell_type": "code",
   "execution_count": null,
   "metadata": {},
   "outputs": [],
   "source": [
    "%load helloworld.pyx\n",
    "print(Hello World)"
   ]
  },
  {
   "cell_type": "markdown",
   "metadata": {},
   "source": [
    "As you can probably guess, the quotation marks declaring 'Hello World' as a string are missing. Let's fix that using the %%writefile cell magic. Additionally we put the print statement in a function, so we can call it."
   ]
  },
  {
   "cell_type": "code",
   "execution_count": null,
   "metadata": {},
   "outputs": [],
   "source": [
    "%%writefile helloworld.pyx\n",
    "def hello_world():\n",
    "    \"\"\"This is the docstring which gets transferred into the .so\n",
    "    \n",
    "    Additionally to printing hello world, I will also do some calculations.\n",
    "    \n",
    "    Args:\n",
    "        No args lol.\n",
    "        \n",
    "    Returns:\n",
    "        None\n",
    "        \n",
    "    \"\"\"\n",
    "    print(\"Hello World\")"
   ]
  },
  {
   "cell_type": "markdown",
   "metadata": {},
   "source": [
    "**The setup file**\n",
    "\n",
    "A simple setup.py file is only a few lines long (most of them are imports). At the core you have the nested function call. The `cythonize()` function can take single files, list of files or glob patterns. The `cythonize()` function returns a list of distutils extension modules, that the setup function knows how to use. This setup.py file can be invoked from the command-line using:\n",
    "\n",
    "```bash\n",
    "$ python setup.py build_ext --inplace\n",
    "```"
   ]
  },
  {
   "cell_type": "code",
   "execution_count": null,
   "metadata": {},
   "outputs": [],
   "source": [
    "%%writefile setup.py\n",
    "from distutils.core import setup\n",
    "from Cython.Build import cythonize\n",
    "\n",
    "setup(\n",
    "    ext_modules = cythonize(\"helloworld.pyx\")\n",
    ")"
   ]
  },
  {
   "cell_type": "code",
   "execution_count": null,
   "metadata": {},
   "outputs": [],
   "source": [
    "!python setup.py build_ext --inplace"
   ]
  },
  {
   "cell_type": "markdown",
   "metadata": {},
   "source": [
    "You see, that some files have appeared in your current directory. The helloworld.c file contains quite a few lines C code. But after compiling it, it is faster than python."
   ]
  },
  {
   "cell_type": "code",
   "execution_count": null,
   "metadata": {},
   "outputs": [],
   "source": [
    "count = len(open('helloworld.c').readlines())\n",
    "print(count)"
   ]
  },
  {
   "cell_type": "markdown",
   "metadata": {},
   "source": [
    "Now we can import stuff from our shared object."
   ]
  },
  {
   "cell_type": "code",
   "execution_count": null,
   "metadata": {},
   "outputs": [],
   "source": [
    "from helloworld import hello_world\n",
    "print(help(hello_world))"
   ]
  },
  {
   "cell_type": "code",
   "execution_count": null,
   "metadata": {},
   "outputs": [],
   "source": [
    "hello_world()"
   ]
  },
  {
   "cell_type": "markdown",
   "metadata": {},
   "source": [
    "Although distutils is the quasi-standard for deploying cython there's a major drawback using distutils for development.\n",
    "\n",
    "**:( :( :( :( :( :( :( :(**\n",
    "\n",
    "Changes in .so files are not caught by the %autoreload extension, meaning if you change something in your cython code and recompile it, you have to restart the kernel."
   ]
  },
  {
   "cell_type": "markdown",
   "metadata": {},
   "source": [
    "## On-the-fly compilation with pyximport\n",
    "\n",
    "pyximport retrofits the import statement to recognize .pyx extension modules. The pyximport module comes with cython and can easily be accessed via:"
   ]
  },
  {
   "cell_type": "code",
   "execution_count": null,
   "metadata": {},
   "outputs": [],
   "source": [
    "import pyximport\n",
    "pyximport.install()"
   ]
  },
  {
   "cell_type": "code",
   "execution_count": null,
   "metadata": {},
   "outputs": [],
   "source": [
    "%%writefile fib.pyx\n",
    "def fibonacci(int n):\n",
    "    cdef int i\n",
    "    cdef double a=0.0, b=1.0\n",
    "    for i in range(n):\n",
    "        a, b = a+b, a\n",
    "    return a"
   ]
  },
  {
   "cell_type": "markdown",
   "metadata": {},
   "source": [
    "With pyximport we can now import from .pyx files. In the background there is still the compilation pipeline going on, but we don't need to worry about that."
   ]
  },
  {
   "cell_type": "code",
   "execution_count": null,
   "metadata": {},
   "outputs": [],
   "source": [
    "import fib"
   ]
  },
  {
   "cell_type": "code",
   "execution_count": null,
   "metadata": {},
   "outputs": [],
   "source": [
    "print(fib.__file__)\n",
    "print(type(fib))"
   ]
  },
  {
   "cell_type": "code",
   "execution_count": null,
   "metadata": {},
   "outputs": [],
   "source": [
    "%%time\n",
    "fib.fibonacci(90)"
   ]
  },
  {
   "cell_type": "markdown",
   "metadata": {},
   "source": [
    "# Convert this notebook to pdf\n",
    "\n",
    "To build this pdf you need to have jupyter extensions installed. Either with pip:\n",
    "\n",
    "```bash\n",
    "$ pip install jupyter_contrib_nbextensions\n",
    "```\n",
    "\n",
    "or with conda:\n",
    "\n",
    "```bash\n",
    "$ conda install -c conda-forge jupyter_contrib_nbextensions\n",
    "```\n",
    "\n",
    "To convert the notebook into a pdf you can execute:\n",
    "\n",
    "```bash\n",
    "$ jupyter nbconvert --to pdf accelerate_python_code.ipynb\n",
    "```\n",
    "\n",
    "### Errors\n",
    "These errors might occur when you try to convert this notebook into a pdf:\n",
    "\n",
    "**Permissions to a shared object**\n",
    "\n",
    "If you get an error, because python does not have permissions to some shared object execute this:\n",
    "\n",
    "```bash\n",
    "$ export LD_LIBRARY_PATH=/home/kevin/.conda/envs/work_3/lib:$LD_LIBRARY_PATH\n",
    "```\n",
    "**Wrong kernelspec**\n",
    "\n",
    "If you get an error, because conda doesn't know the kernel open the notebook file in a texteditor and change the kernel name by hand.\n",
    "\n",
    "```json\n",
    " \"metadata\": {\n",
    "  \"kernelspec\": {\n",
    "   \"display_name\": \"work_3\",\n",
    "   \"language\": \"python\",\n",
    "   \"name\": \"nb-conda-faster_py_env-py\"\n",
    "```\n",
    "\n",
    "will be changed to:\n",
    "\n",
    "```json\n",
    " \"metadata\": {\n",
    "  \"kernelspec\": {\n",
    "   \"display_name\": \"work_3\",\n",
    "   \"language\": \"python\",\n",
    "   \"name\": \"faster_py_env\"\n",
    "```"
   ]
  },
  {
   "cell_type": "code",
   "execution_count": null,
   "metadata": {},
   "outputs": [],
   "source": [
    "!jupyter nbconvert --to pdf accelerate_python_code.ipynb"
   ]
  }
 ],
 "metadata": {
  "kernelspec": {
   "display_name": "work_3",
   "language": "python",
   "name": "work_3"
  },
  "language_info": {
   "codemirror_mode": {
    "name": "ipython",
    "version": 3
   },
   "file_extension": ".py",
   "mimetype": "text/x-python",
   "name": "python",
   "nbconvert_exporter": "python",
   "pygments_lexer": "ipython3",
   "version": "3.6.6"
  },
  "latex_envs": {
   "LaTeX_envs_menu_present": true,
   "autoclose": false,
   "autocomplete": true,
   "bibliofile": "biblio.bib",
   "cite_by": "apalike",
   "current_citInitial": 1,
   "eqLabelWithNumbers": true,
   "eqNumInitial": 1,
   "hotkeys": {
    "equation": "Ctrl-E",
    "itemize": "Ctrl-I"
   },
   "labels_anchors": false,
   "latex_user_defs": false,
   "report_style_numbering": false,
   "user_envs_cfg": false
  },
  "toc": {
   "base_numbering": 1,
   "nav_menu": {},
   "number_sections": true,
   "sideBar": true,
   "skip_h1_title": false,
   "title_cell": "Table of Contents",
   "title_sidebar": "Contents",
   "toc_cell": false,
   "toc_position": {},
   "toc_section_display": true,
   "toc_window_display": true
  }
 },
 "nbformat": 4,
 "nbformat_minor": 2
}
